{
  "nbformat": 4,
  "nbformat_minor": 0,
  "metadata": {
    "colab": {
      "provenance": [],
      "mount_file_id": "1VQw-m4S8Umw7oFXmpIdtiiXenPfy9FV_",
      "authorship_tag": "ABX9TyNt5ztQ8DBRXmN35YcCDE0E",
      "include_colab_link": true
    },
    "kernelspec": {
      "name": "python3",
      "display_name": "Python 3"
    },
    "language_info": {
      "name": "python"
    }
  },
  "cells": [
    {
      "cell_type": "markdown",
      "metadata": {
        "id": "view-in-github",
        "colab_type": "text"
      },
      "source": [
        "<a href=\"https://colab.research.google.com/github/1digitaldesign/sample-code/blob/main/ETL_%26_SQL_Tai%2CBetty.ipynb\" target=\"_parent\"><img src=\"https://colab.research.google.com/assets/colab-badge.svg\" alt=\"Open In Colab\"/></a>"
      ]
    },
    {
      "cell_type": "markdown",
      "source": [
        "# Notebook Setup\n",
        "\n",
        "Part 1. ETL\n",
        "\n",
        "Part 2. SQL "
      ],
      "metadata": {
        "id": "qbNtUvQB5hVu"
      }
    },
    {
      "cell_type": "markdown",
      "source": [
        "## Part 1: ETL\n"
      ],
      "metadata": {
        "id": "y51NI-DvR8cf"
      }
    },
    {
      "cell_type": "code",
      "execution_count": 14,
      "metadata": {
        "id": "5SRDSMylONUW",
        "cellView": "form"
      },
      "outputs": [],
      "source": [
        "#@title Installation of Necessary Packages \n",
        "%%capture\n",
        "!pip3 install pyspark\n",
        "!pip3 install hide_code\n",
        "!pip3 install fancyimpute\n",
        "!pip3 install miceforest\n",
        "!pip3 install scikit-learn\n",
        "%pip install mlxtend --upgrade"
      ]
    },
    {
      "cell_type": "markdown",
      "source": [
        "On the left, download the dataset [`usa_00001.csv`](https://drive.google.com/file/d/128-eo8QVTYu20aRzA_-7OTxPOjyS-SRp/view?usp=share_link) and on the left hand side, there is a folder to click on called `Files` and then `Upload to Session Storage` this file [`usa_00001.csv`](https://drive.google.com/file/d/128-eo8QVTYu20aRzA_-7OTxPOjyS-SRp/view?usp=share_link). "
      ],
      "metadata": {
        "id": "x8qw5hIRQ-gV"
      }
    },
    {
      "cell_type": "code",
      "source": [
        "#@title Installation of Necessary Libraries \n",
        "import pyspark\n",
        "from pyspark.sql import SparkSession\n",
        "import pandas as pd\n",
        "import numpy as np\n",
        "import sqlite3\n",
        "import requests\n",
        "import os\n",
        "from sklearn.impute import SimpleImputer\n",
        "from mlxtend.evaluate import bias_variance_decomp"
      ],
      "metadata": {
        "id": "UEo9HGP2SjPq"
      },
      "execution_count": 15,
      "outputs": []
    },
    {
      "cell_type": "markdown",
      "source": [
        "## Data Extraction"
      ],
      "metadata": {
        "id": "4DHflXUj36Pg"
      }
    },
    {
      "cell_type": "code",
      "source": [
        "df = pd.read_csv('/content/usa_00001.csv')"
      ],
      "metadata": {
        "id": "HUu5-115kms8"
      },
      "execution_count": 4,
      "outputs": []
    },
    {
      "cell_type": "markdown",
      "source": [
        "## Data Transformation\n",
        "Data transformation is an integral step for data analysis and modeling without errors and improve the performance of the data. \n",
        "\n",
        "* Cleaning \n",
        "* Normalization\n",
        "* Reduction\n",
        "* Discretization\n",
        "* Aggregation\n",
        "\n",
        "\n",
        "\n",
        "\n"
      ],
      "metadata": {
        "id": "BWPDtHrkt8xT"
      }
    },
    {
      "cell_type": "code",
      "source": [
        "df.isnull().sum()\n",
        "df.shape"
      ],
      "metadata": {
        "colab": {
          "base_uri": "https://localhost:8080/"
        },
        "id": "FE5EBaaEtEu1",
        "outputId": "86ccd841-22f6-4a6f-dbfe-a61ef369e5a0"
      },
      "execution_count": 5,
      "outputs": [
        {
          "output_type": "execute_result",
          "data": {
            "text/plain": [
              "(3252599, 32)"
            ]
          },
          "metadata": {},
          "execution_count": 5
        }
      ]
    },
    {
      "cell_type": "code",
      "source": [
        "for col_name in df.columns: \n",
        "    print(col_name)"
      ],
      "metadata": {
        "colab": {
          "base_uri": "https://localhost:8080/"
        },
        "id": "PeI68T7PtkXf",
        "outputId": "966aaa61-c0ed-491c-9d75-2cdca3e6d1ad"
      },
      "execution_count": 6,
      "outputs": [
        {
          "output_type": "stream",
          "name": "stdout",
          "text": [
            "YEAR\n",
            "SAMPLE\n",
            "SERIAL\n",
            "CBSERIAL\n",
            "HHWT\n",
            "CLUSTER\n",
            "STRATA\n",
            "GQ\n",
            "PERNUM\n",
            "PERWT\n",
            "SEX\n",
            "AGE\n",
            "MARST\n",
            "BIRTHYR\n",
            "MARRNO\n",
            "DIVINYR\n",
            "WIDINYR\n",
            "SCHOOL\n",
            "EDUC\n",
            "EDUCD\n",
            "DEGFIELD\n",
            "DEGFIELDD\n",
            "DEGFIELD2\n",
            "DEGFIELD2D\n",
            "EMPSTAT\n",
            "EMPSTATD\n",
            "OCC2010\n",
            "IND\n",
            "INDNAICS\n",
            "WKSWORK1\n",
            "FTOTINC\n",
            "INCWAGE\n"
          ]
        }
      ]
    },
    {
      "cell_type": "code",
      "source": [
        "df.describe().style.highlight_max(color=\"darkred\")"
      ],
      "metadata": {
        "colab": {
          "base_uri": "https://localhost:8080/",
          "height": 320
        },
        "id": "wCVQsYB8xSLx",
        "outputId": "e15c9026-6fba-4532-f592-87283a88ac70"
      },
      "execution_count": 7,
      "outputs": [
        {
          "output_type": "execute_result",
          "data": {
            "text/plain": [
              "<pandas.io.formats.style.Styler at 0x7fc68471b6a0>"
            ],
            "text/html": [
              "<style type=\"text/css\">\n",
              "#T_3777c_row0_col0, #T_3777c_row0_col1, #T_3777c_row0_col2, #T_3777c_row0_col4, #T_3777c_row0_col7, #T_3777c_row0_col8, #T_3777c_row0_col9, #T_3777c_row0_col10, #T_3777c_row0_col11, #T_3777c_row0_col12, #T_3777c_row0_col13, #T_3777c_row0_col14, #T_3777c_row0_col15, #T_3777c_row0_col16, #T_3777c_row0_col17, #T_3777c_row0_col18, #T_3777c_row0_col19, #T_3777c_row0_col20, #T_3777c_row0_col21, #T_3777c_row0_col22, #T_3777c_row0_col23, #T_3777c_row0_col24, #T_3777c_row0_col25, #T_3777c_row0_col26, #T_3777c_row0_col27, #T_3777c_row0_col28, #T_3777c_row0_col30, #T_3777c_row7_col3, #T_3777c_row7_col5, #T_3777c_row7_col6, #T_3777c_row7_col29 {\n",
              "  background-color: darkred;\n",
              "}\n",
              "</style>\n",
              "<table id=\"T_3777c\" class=\"dataframe\">\n",
              "  <thead>\n",
              "    <tr>\n",
              "      <th class=\"blank level0\" >&nbsp;</th>\n",
              "      <th id=\"T_3777c_level0_col0\" class=\"col_heading level0 col0\" >YEAR</th>\n",
              "      <th id=\"T_3777c_level0_col1\" class=\"col_heading level0 col1\" >SAMPLE</th>\n",
              "      <th id=\"T_3777c_level0_col2\" class=\"col_heading level0 col2\" >SERIAL</th>\n",
              "      <th id=\"T_3777c_level0_col3\" class=\"col_heading level0 col3\" >CBSERIAL</th>\n",
              "      <th id=\"T_3777c_level0_col4\" class=\"col_heading level0 col4\" >HHWT</th>\n",
              "      <th id=\"T_3777c_level0_col5\" class=\"col_heading level0 col5\" >CLUSTER</th>\n",
              "      <th id=\"T_3777c_level0_col6\" class=\"col_heading level0 col6\" >STRATA</th>\n",
              "      <th id=\"T_3777c_level0_col7\" class=\"col_heading level0 col7\" >GQ</th>\n",
              "      <th id=\"T_3777c_level0_col8\" class=\"col_heading level0 col8\" >PERNUM</th>\n",
              "      <th id=\"T_3777c_level0_col9\" class=\"col_heading level0 col9\" >PERWT</th>\n",
              "      <th id=\"T_3777c_level0_col10\" class=\"col_heading level0 col10\" >SEX</th>\n",
              "      <th id=\"T_3777c_level0_col11\" class=\"col_heading level0 col11\" >AGE</th>\n",
              "      <th id=\"T_3777c_level0_col12\" class=\"col_heading level0 col12\" >MARST</th>\n",
              "      <th id=\"T_3777c_level0_col13\" class=\"col_heading level0 col13\" >BIRTHYR</th>\n",
              "      <th id=\"T_3777c_level0_col14\" class=\"col_heading level0 col14\" >MARRNO</th>\n",
              "      <th id=\"T_3777c_level0_col15\" class=\"col_heading level0 col15\" >DIVINYR</th>\n",
              "      <th id=\"T_3777c_level0_col16\" class=\"col_heading level0 col16\" >WIDINYR</th>\n",
              "      <th id=\"T_3777c_level0_col17\" class=\"col_heading level0 col17\" >SCHOOL</th>\n",
              "      <th id=\"T_3777c_level0_col18\" class=\"col_heading level0 col18\" >EDUC</th>\n",
              "      <th id=\"T_3777c_level0_col19\" class=\"col_heading level0 col19\" >EDUCD</th>\n",
              "      <th id=\"T_3777c_level0_col20\" class=\"col_heading level0 col20\" >DEGFIELD</th>\n",
              "      <th id=\"T_3777c_level0_col21\" class=\"col_heading level0 col21\" >DEGFIELDD</th>\n",
              "      <th id=\"T_3777c_level0_col22\" class=\"col_heading level0 col22\" >DEGFIELD2</th>\n",
              "      <th id=\"T_3777c_level0_col23\" class=\"col_heading level0 col23\" >DEGFIELD2D</th>\n",
              "      <th id=\"T_3777c_level0_col24\" class=\"col_heading level0 col24\" >EMPSTAT</th>\n",
              "      <th id=\"T_3777c_level0_col25\" class=\"col_heading level0 col25\" >EMPSTATD</th>\n",
              "      <th id=\"T_3777c_level0_col26\" class=\"col_heading level0 col26\" >OCC2010</th>\n",
              "      <th id=\"T_3777c_level0_col27\" class=\"col_heading level0 col27\" >IND</th>\n",
              "      <th id=\"T_3777c_level0_col28\" class=\"col_heading level0 col28\" >WKSWORK1</th>\n",
              "      <th id=\"T_3777c_level0_col29\" class=\"col_heading level0 col29\" >FTOTINC</th>\n",
              "      <th id=\"T_3777c_level0_col30\" class=\"col_heading level0 col30\" >INCWAGE</th>\n",
              "    </tr>\n",
              "  </thead>\n",
              "  <tbody>\n",
              "    <tr>\n",
              "      <th id=\"T_3777c_level0_row0\" class=\"row_heading level0 row0\" >count</th>\n",
              "      <td id=\"T_3777c_row0_col0\" class=\"data row0 col0\" >3252599.000000</td>\n",
              "      <td id=\"T_3777c_row0_col1\" class=\"data row0 col1\" >3252599.000000</td>\n",
              "      <td id=\"T_3777c_row0_col2\" class=\"data row0 col2\" >3252599.000000</td>\n",
              "      <td id=\"T_3777c_row0_col3\" class=\"data row0 col3\" >3252599.000000</td>\n",
              "      <td id=\"T_3777c_row0_col4\" class=\"data row0 col4\" >3252599.000000</td>\n",
              "      <td id=\"T_3777c_row0_col5\" class=\"data row0 col5\" >3252599.000000</td>\n",
              "      <td id=\"T_3777c_row0_col6\" class=\"data row0 col6\" >3252599.000000</td>\n",
              "      <td id=\"T_3777c_row0_col7\" class=\"data row0 col7\" >3252599.000000</td>\n",
              "      <td id=\"T_3777c_row0_col8\" class=\"data row0 col8\" >3252599.000000</td>\n",
              "      <td id=\"T_3777c_row0_col9\" class=\"data row0 col9\" >3252599.000000</td>\n",
              "      <td id=\"T_3777c_row0_col10\" class=\"data row0 col10\" >3252599.000000</td>\n",
              "      <td id=\"T_3777c_row0_col11\" class=\"data row0 col11\" >3252599.000000</td>\n",
              "      <td id=\"T_3777c_row0_col12\" class=\"data row0 col12\" >3252599.000000</td>\n",
              "      <td id=\"T_3777c_row0_col13\" class=\"data row0 col13\" >3252599.000000</td>\n",
              "      <td id=\"T_3777c_row0_col14\" class=\"data row0 col14\" >3252599.000000</td>\n",
              "      <td id=\"T_3777c_row0_col15\" class=\"data row0 col15\" >3252599.000000</td>\n",
              "      <td id=\"T_3777c_row0_col16\" class=\"data row0 col16\" >3252599.000000</td>\n",
              "      <td id=\"T_3777c_row0_col17\" class=\"data row0 col17\" >3252599.000000</td>\n",
              "      <td id=\"T_3777c_row0_col18\" class=\"data row0 col18\" >3252599.000000</td>\n",
              "      <td id=\"T_3777c_row0_col19\" class=\"data row0 col19\" >3252599.000000</td>\n",
              "      <td id=\"T_3777c_row0_col20\" class=\"data row0 col20\" >3252599.000000</td>\n",
              "      <td id=\"T_3777c_row0_col21\" class=\"data row0 col21\" >3252599.000000</td>\n",
              "      <td id=\"T_3777c_row0_col22\" class=\"data row0 col22\" >3252599.000000</td>\n",
              "      <td id=\"T_3777c_row0_col23\" class=\"data row0 col23\" >3252599.000000</td>\n",
              "      <td id=\"T_3777c_row0_col24\" class=\"data row0 col24\" >3252599.000000</td>\n",
              "      <td id=\"T_3777c_row0_col25\" class=\"data row0 col25\" >3252599.000000</td>\n",
              "      <td id=\"T_3777c_row0_col26\" class=\"data row0 col26\" >3252599.000000</td>\n",
              "      <td id=\"T_3777c_row0_col27\" class=\"data row0 col27\" >3252599.000000</td>\n",
              "      <td id=\"T_3777c_row0_col28\" class=\"data row0 col28\" >3252599.000000</td>\n",
              "      <td id=\"T_3777c_row0_col29\" class=\"data row0 col29\" >3252599.000000</td>\n",
              "      <td id=\"T_3777c_row0_col30\" class=\"data row0 col30\" >3252599.000000</td>\n",
              "    </tr>\n",
              "    <tr>\n",
              "      <th id=\"T_3777c_level0_row1\" class=\"row_heading level0 row1\" >mean</th>\n",
              "      <td id=\"T_3777c_row1_col0\" class=\"data row1 col0\" >2021.000000</td>\n",
              "      <td id=\"T_3777c_row1_col1\" class=\"data row1 col1\" >202101.000000</td>\n",
              "      <td id=\"T_3777c_row1_col2\" class=\"data row1 col2\" >717559.681547</td>\n",
              "      <td id=\"T_3777c_row1_col3\" class=\"data row1 col3\" >2021001168653.933838</td>\n",
              "      <td id=\"T_3777c_row1_col4\" class=\"data row1 col4\" >99.464870</td>\n",
              "      <td id=\"T_3777c_row1_col5\" class=\"data row1 col5\" >2021007175597.814209</td>\n",
              "      <td id=\"T_3777c_row1_col6\" class=\"data row1 col6\" >466571.456261</td>\n",
              "      <td id=\"T_3777c_row1_col7\" class=\"data row1 col7\" >1.126290</td>\n",
              "      <td id=\"T_3777c_row1_col8\" class=\"data row1 col8\" >2.065684</td>\n",
              "      <td id=\"T_3777c_row1_col9\" class=\"data row1 col9\" >102.039552</td>\n",
              "      <td id=\"T_3777c_row1_col10\" class=\"data row1 col10\" >1.508804</td>\n",
              "      <td id=\"T_3777c_row1_col11\" class=\"data row1 col11\" >42.617305</td>\n",
              "      <td id=\"T_3777c_row1_col12\" class=\"data row1 col12\" >3.610626</td>\n",
              "      <td id=\"T_3777c_row1_col13\" class=\"data row1 col13\" >1978.382695</td>\n",
              "      <td id=\"T_3777c_row1_col14\" class=\"data row1 col14\" >0.763501</td>\n",
              "      <td id=\"T_3777c_row1_col15\" class=\"data row1 col15\" >0.589478</td>\n",
              "      <td id=\"T_3777c_row1_col16\" class=\"data row1 col16\" >0.590393</td>\n",
              "      <td id=\"T_3777c_row1_col17\" class=\"data row1 col17\" >1.192275</td>\n",
              "      <td id=\"T_3777c_row1_col18\" class=\"data row1 col18\" >6.333877</td>\n",
              "      <td id=\"T_3777c_row1_col19\" class=\"data row1 col19\" >65.788119</td>\n",
              "      <td id=\"T_3777c_row1_col20\" class=\"data row1 col20\" >11.555902</td>\n",
              "      <td id=\"T_3777c_row1_col21\" class=\"data row1 col21\" >1157.102767</td>\n",
              "      <td id=\"T_3777c_row1_col22\" class=\"data row1 col22\" >1.288970</td>\n",
              "      <td id=\"T_3777c_row1_col23\" class=\"data row1 col23\" >129.084694</td>\n",
              "      <td id=\"T_3777c_row1_col24\" class=\"data row1 col24\" >1.554270</td>\n",
              "      <td id=\"T_3777c_row1_col25\" class=\"data row1 col25\" >15.577713</td>\n",
              "      <td id=\"T_3777c_row1_col26\" class=\"data row1 col26\" >6478.958507</td>\n",
              "      <td id=\"T_3777c_row1_col27\" class=\"data row1 col27\" >3790.784774</td>\n",
              "      <td id=\"T_3777c_row1_col28\" class=\"data row1 col28\" >22.357544</td>\n",
              "      <td id=\"T_3777c_row1_col29\" class=\"data row1 col29\" >605649.415975</td>\n",
              "      <td id=\"T_3777c_row1_col30\" class=\"data row1 col30\" >196215.597491</td>\n",
              "    </tr>\n",
              "    <tr>\n",
              "      <th id=\"T_3777c_level0_row2\" class=\"row_heading level0 row2\" >std</th>\n",
              "      <td id=\"T_3777c_row2_col0\" class=\"data row2 col0\" >0.000000</td>\n",
              "      <td id=\"T_3777c_row2_col1\" class=\"data row2 col1\" >0.000000</td>\n",
              "      <td id=\"T_3777c_row2_col2\" class=\"data row2 col2\" >419092.279450</td>\n",
              "      <td id=\"T_3777c_row2_col3\" class=\"data row2 col3\" >2064895.535001</td>\n",
              "      <td id=\"T_3777c_row2_col4\" class=\"data row2 col4\" >86.706876</td>\n",
              "      <td id=\"T_3777c_row2_col5\" class=\"data row2 col5\" >4190922.794503</td>\n",
              "      <td id=\"T_3777c_row2_col6\" class=\"data row2 col6\" >942077.458427</td>\n",
              "      <td id=\"T_3777c_row2_col7\" class=\"data row2 col7\" >0.559180</td>\n",
              "      <td id=\"T_3777c_row2_col8\" class=\"data row2 col8\" >1.332517</td>\n",
              "      <td id=\"T_3777c_row2_col9\" class=\"data row2 col9\" >89.786774</td>\n",
              "      <td id=\"T_3777c_row2_col10\" class=\"data row2 col10\" >0.499923</td>\n",
              "      <td id=\"T_3777c_row2_col11\" class=\"data row2 col11\" >23.877383</td>\n",
              "      <td id=\"T_3777c_row2_col12\" class=\"data row2 col12\" >2.308894</td>\n",
              "      <td id=\"T_3777c_row2_col13\" class=\"data row2 col13\" >23.877383</td>\n",
              "      <td id=\"T_3777c_row2_col14\" class=\"data row2 col14\" >0.777666</td>\n",
              "      <td id=\"T_3777c_row2_col15\" class=\"data row2 col15\" >0.502382</td>\n",
              "      <td id=\"T_3777c_row2_col16\" class=\"data row2 col16\" >0.504037</td>\n",
              "      <td id=\"T_3777c_row2_col17\" class=\"data row2 col17\" >0.457692</td>\n",
              "      <td id=\"T_3777c_row2_col18\" class=\"data row2 col18\" >3.268188</td>\n",
              "      <td id=\"T_3777c_row2_col19\" class=\"data row2 col19\" >32.530554</td>\n",
              "      <td id=\"T_3777c_row2_col20\" class=\"data row2 col20\" >21.115907</td>\n",
              "      <td id=\"T_3777c_row2_col21\" class=\"data row2 col21\" >2113.806014</td>\n",
              "      <td id=\"T_3777c_row2_col22\" class=\"data row2 col22\" >7.932513</td>\n",
              "      <td id=\"T_3777c_row2_col23\" class=\"data row2 col23\" >794.273182</td>\n",
              "      <td id=\"T_3777c_row2_col24\" class=\"data row2 col24\" >1.131287</td>\n",
              "      <td id=\"T_3777c_row2_col25\" class=\"data row2 col25\" >11.300173</td>\n",
              "      <td id=\"T_3777c_row2_col26\" class=\"data row2 col26\" >3518.795781</td>\n",
              "      <td id=\"T_3777c_row2_col27\" class=\"data row2 col27\" >3735.829994</td>\n",
              "      <td id=\"T_3777c_row2_col28\" class=\"data row2 col28\" >24.694715</td>\n",
              "      <td id=\"T_3777c_row2_col29\" class=\"data row2 col29\" >2166826.373888</td>\n",
              "      <td id=\"T_3777c_row2_col30\" class=\"data row2 col30\" >366775.670771</td>\n",
              "    </tr>\n",
              "    <tr>\n",
              "      <th id=\"T_3777c_level0_row3\" class=\"row_heading level0 row3\" >min</th>\n",
              "      <td id=\"T_3777c_row3_col0\" class=\"data row3 col0\" >2021.000000</td>\n",
              "      <td id=\"T_3777c_row3_col1\" class=\"data row3 col1\" >202101.000000</td>\n",
              "      <td id=\"T_3777c_row3_col2\" class=\"data row3 col2\" >1.000000</td>\n",
              "      <td id=\"T_3777c_row3_col3\" class=\"data row3 col3\" >2021000000001.000000</td>\n",
              "      <td id=\"T_3777c_row3_col4\" class=\"data row3 col4\" >1.000000</td>\n",
              "      <td id=\"T_3777c_row3_col5\" class=\"data row3 col5\" >2021000000011.000000</td>\n",
              "      <td id=\"T_3777c_row3_col6\" class=\"data row3 col6\" >10001.000000</td>\n",
              "      <td id=\"T_3777c_row3_col7\" class=\"data row3 col7\" >1.000000</td>\n",
              "      <td id=\"T_3777c_row3_col8\" class=\"data row3 col8\" >1.000000</td>\n",
              "      <td id=\"T_3777c_row3_col9\" class=\"data row3 col9\" >1.000000</td>\n",
              "      <td id=\"T_3777c_row3_col10\" class=\"data row3 col10\" >1.000000</td>\n",
              "      <td id=\"T_3777c_row3_col11\" class=\"data row3 col11\" >0.000000</td>\n",
              "      <td id=\"T_3777c_row3_col12\" class=\"data row3 col12\" >1.000000</td>\n",
              "      <td id=\"T_3777c_row3_col13\" class=\"data row3 col13\" >1925.000000</td>\n",
              "      <td id=\"T_3777c_row3_col14\" class=\"data row3 col14\" >0.000000</td>\n",
              "      <td id=\"T_3777c_row3_col15\" class=\"data row3 col15\" >0.000000</td>\n",
              "      <td id=\"T_3777c_row3_col16\" class=\"data row3 col16\" >0.000000</td>\n",
              "      <td id=\"T_3777c_row3_col17\" class=\"data row3 col17\" >0.000000</td>\n",
              "      <td id=\"T_3777c_row3_col18\" class=\"data row3 col18\" >0.000000</td>\n",
              "      <td id=\"T_3777c_row3_col19\" class=\"data row3 col19\" >1.000000</td>\n",
              "      <td id=\"T_3777c_row3_col20\" class=\"data row3 col20\" >0.000000</td>\n",
              "      <td id=\"T_3777c_row3_col21\" class=\"data row3 col21\" >0.000000</td>\n",
              "      <td id=\"T_3777c_row3_col22\" class=\"data row3 col22\" >0.000000</td>\n",
              "      <td id=\"T_3777c_row3_col23\" class=\"data row3 col23\" >0.000000</td>\n",
              "      <td id=\"T_3777c_row3_col24\" class=\"data row3 col24\" >0.000000</td>\n",
              "      <td id=\"T_3777c_row3_col25\" class=\"data row3 col25\" >0.000000</td>\n",
              "      <td id=\"T_3777c_row3_col26\" class=\"data row3 col26\" >10.000000</td>\n",
              "      <td id=\"T_3777c_row3_col27\" class=\"data row3 col27\" >0.000000</td>\n",
              "      <td id=\"T_3777c_row3_col28\" class=\"data row3 col28\" >0.000000</td>\n",
              "      <td id=\"T_3777c_row3_col29\" class=\"data row3 col29\" >-17000.000000</td>\n",
              "      <td id=\"T_3777c_row3_col30\" class=\"data row3 col30\" >0.000000</td>\n",
              "    </tr>\n",
              "    <tr>\n",
              "      <th id=\"T_3777c_level0_row4\" class=\"row_heading level0 row4\" >25%</th>\n",
              "      <td id=\"T_3777c_row4_col0\" class=\"data row4 col0\" >2021.000000</td>\n",
              "      <td id=\"T_3777c_row4_col1\" class=\"data row4 col1\" >202101.000000</td>\n",
              "      <td id=\"T_3777c_row4_col2\" class=\"data row4 col2\" >349456.500000</td>\n",
              "      <td id=\"T_3777c_row4_col3\" class=\"data row4 col3\" >2021000372398.000000</td>\n",
              "      <td id=\"T_3777c_row4_col4\" class=\"data row4 col4\" >48.000000</td>\n",
              "      <td id=\"T_3777c_row4_col5\" class=\"data row4 col5\" >2021003494566.000000</td>\n",
              "      <td id=\"T_3777c_row4_col6\" class=\"data row4 col6\" >82408.000000</td>\n",
              "      <td id=\"T_3777c_row4_col7\" class=\"data row4 col7\" >1.000000</td>\n",
              "      <td id=\"T_3777c_row4_col8\" class=\"data row4 col8\" >1.000000</td>\n",
              "      <td id=\"T_3777c_row4_col9\" class=\"data row4 col9\" >49.000000</td>\n",
              "      <td id=\"T_3777c_row4_col10\" class=\"data row4 col10\" >1.000000</td>\n",
              "      <td id=\"T_3777c_row4_col11\" class=\"data row4 col11\" >22.000000</td>\n",
              "      <td id=\"T_3777c_row4_col12\" class=\"data row4 col12\" >1.000000</td>\n",
              "      <td id=\"T_3777c_row4_col13\" class=\"data row4 col13\" >1959.000000</td>\n",
              "      <td id=\"T_3777c_row4_col14\" class=\"data row4 col14\" >0.000000</td>\n",
              "      <td id=\"T_3777c_row4_col15\" class=\"data row4 col15\" >0.000000</td>\n",
              "      <td id=\"T_3777c_row4_col16\" class=\"data row4 col16\" >0.000000</td>\n",
              "      <td id=\"T_3777c_row4_col17\" class=\"data row4 col17\" >1.000000</td>\n",
              "      <td id=\"T_3777c_row4_col18\" class=\"data row4 col18\" >5.000000</td>\n",
              "      <td id=\"T_3777c_row4_col19\" class=\"data row4 col19\" >50.000000</td>\n",
              "      <td id=\"T_3777c_row4_col20\" class=\"data row4 col20\" >0.000000</td>\n",
              "      <td id=\"T_3777c_row4_col21\" class=\"data row4 col21\" >0.000000</td>\n",
              "      <td id=\"T_3777c_row4_col22\" class=\"data row4 col22\" >0.000000</td>\n",
              "      <td id=\"T_3777c_row4_col23\" class=\"data row4 col23\" >0.000000</td>\n",
              "      <td id=\"T_3777c_row4_col24\" class=\"data row4 col24\" >1.000000</td>\n",
              "      <td id=\"T_3777c_row4_col25\" class=\"data row4 col25\" >10.000000</td>\n",
              "      <td id=\"T_3777c_row4_col26\" class=\"data row4 col26\" >3630.000000</td>\n",
              "      <td id=\"T_3777c_row4_col27\" class=\"data row4 col27\" >0.000000</td>\n",
              "      <td id=\"T_3777c_row4_col28\" class=\"data row4 col28\" >0.000000</td>\n",
              "      <td id=\"T_3777c_row4_col29\" class=\"data row4 col29\" >40000.000000</td>\n",
              "      <td id=\"T_3777c_row4_col30\" class=\"data row4 col30\" >0.000000</td>\n",
              "    </tr>\n",
              "    <tr>\n",
              "      <th id=\"T_3777c_level0_row5\" class=\"row_heading level0 row5\" >50%</th>\n",
              "      <td id=\"T_3777c_row5_col0\" class=\"data row5 col0\" >2021.000000</td>\n",
              "      <td id=\"T_3777c_row5_col1\" class=\"data row5 col1\" >202101.000000</td>\n",
              "      <td id=\"T_3777c_row5_col2\" class=\"data row5 col2\" >715274.000000</td>\n",
              "      <td id=\"T_3777c_row5_col3\" class=\"data row5 col3\" >2021000744727.000000</td>\n",
              "      <td id=\"T_3777c_row5_col4\" class=\"data row5 col4\" >75.000000</td>\n",
              "      <td id=\"T_3777c_row5_col5\" class=\"data row5 col5\" >2021007152741.000000</td>\n",
              "      <td id=\"T_3777c_row5_col6\" class=\"data row5 col6\" >210334.000000</td>\n",
              "      <td id=\"T_3777c_row5_col7\" class=\"data row5 col7\" >1.000000</td>\n",
              "      <td id=\"T_3777c_row5_col8\" class=\"data row5 col8\" >2.000000</td>\n",
              "      <td id=\"T_3777c_row5_col9\" class=\"data row5 col9\" >76.000000</td>\n",
              "      <td id=\"T_3777c_row5_col10\" class=\"data row5 col10\" >2.000000</td>\n",
              "      <td id=\"T_3777c_row5_col11\" class=\"data row5 col11\" >43.000000</td>\n",
              "      <td id=\"T_3777c_row5_col12\" class=\"data row5 col12\" >4.000000</td>\n",
              "      <td id=\"T_3777c_row5_col13\" class=\"data row5 col13\" >1978.000000</td>\n",
              "      <td id=\"T_3777c_row5_col14\" class=\"data row5 col14\" >1.000000</td>\n",
              "      <td id=\"T_3777c_row5_col15\" class=\"data row5 col15\" >1.000000</td>\n",
              "      <td id=\"T_3777c_row5_col16\" class=\"data row5 col16\" >1.000000</td>\n",
              "      <td id=\"T_3777c_row5_col17\" class=\"data row5 col17\" >1.000000</td>\n",
              "      <td id=\"T_3777c_row5_col18\" class=\"data row5 col18\" >6.000000</td>\n",
              "      <td id=\"T_3777c_row5_col19\" class=\"data row5 col19\" >65.000000</td>\n",
              "      <td id=\"T_3777c_row5_col20\" class=\"data row5 col20\" >0.000000</td>\n",
              "      <td id=\"T_3777c_row5_col21\" class=\"data row5 col21\" >0.000000</td>\n",
              "      <td id=\"T_3777c_row5_col22\" class=\"data row5 col22\" >0.000000</td>\n",
              "      <td id=\"T_3777c_row5_col23\" class=\"data row5 col23\" >0.000000</td>\n",
              "      <td id=\"T_3777c_row5_col24\" class=\"data row5 col24\" >1.000000</td>\n",
              "      <td id=\"T_3777c_row5_col25\" class=\"data row5 col25\" >10.000000</td>\n",
              "      <td id=\"T_3777c_row5_col26\" class=\"data row5 col26\" >7010.000000</td>\n",
              "      <td id=\"T_3777c_row5_col27\" class=\"data row5 col27\" >3470.000000</td>\n",
              "      <td id=\"T_3777c_row5_col28\" class=\"data row5 col28\" >1.000000</td>\n",
              "      <td id=\"T_3777c_row5_col29\" class=\"data row5 col29\" >81000.000000</td>\n",
              "      <td id=\"T_3777c_row5_col30\" class=\"data row5 col30\" >23000.000000</td>\n",
              "    </tr>\n",
              "    <tr>\n",
              "      <th id=\"T_3777c_level0_row6\" class=\"row_heading level0 row6\" >75%</th>\n",
              "      <td id=\"T_3777c_row6_col0\" class=\"data row6 col0\" >2021.000000</td>\n",
              "      <td id=\"T_3777c_row6_col1\" class=\"data row6 col1\" >202101.000000</td>\n",
              "      <td id=\"T_3777c_row6_col2\" class=\"data row6 col2\" >1085054.500000</td>\n",
              "      <td id=\"T_3777c_row6_col3\" class=\"data row6 col3\" >2021001116914.000000</td>\n",
              "      <td id=\"T_3777c_row6_col4\" class=\"data row6 col4\" >120.000000</td>\n",
              "      <td id=\"T_3777c_row6_col5\" class=\"data row6 col5\" >2021010850546.000000</td>\n",
              "      <td id=\"T_3777c_row6_col6\" class=\"data row6 col6\" >410308.000000</td>\n",
              "      <td id=\"T_3777c_row6_col7\" class=\"data row6 col7\" >1.000000</td>\n",
              "      <td id=\"T_3777c_row6_col8\" class=\"data row6 col8\" >3.000000</td>\n",
              "      <td id=\"T_3777c_row6_col9\" class=\"data row6 col9\" >124.000000</td>\n",
              "      <td id=\"T_3777c_row6_col10\" class=\"data row6 col10\" >2.000000</td>\n",
              "      <td id=\"T_3777c_row6_col11\" class=\"data row6 col11\" >62.000000</td>\n",
              "      <td id=\"T_3777c_row6_col12\" class=\"data row6 col12\" >6.000000</td>\n",
              "      <td id=\"T_3777c_row6_col13\" class=\"data row6 col13\" >1999.000000</td>\n",
              "      <td id=\"T_3777c_row6_col14\" class=\"data row6 col14\" >1.000000</td>\n",
              "      <td id=\"T_3777c_row6_col15\" class=\"data row6 col15\" >1.000000</td>\n",
              "      <td id=\"T_3777c_row6_col16\" class=\"data row6 col16\" >1.000000</td>\n",
              "      <td id=\"T_3777c_row6_col17\" class=\"data row6 col17\" >1.000000</td>\n",
              "      <td id=\"T_3777c_row6_col18\" class=\"data row6 col18\" >10.000000</td>\n",
              "      <td id=\"T_3777c_row6_col19\" class=\"data row6 col19\" >101.000000</td>\n",
              "      <td id=\"T_3777c_row6_col20\" class=\"data row6 col20\" >19.000000</td>\n",
              "      <td id=\"T_3777c_row6_col21\" class=\"data row6 col21\" >1903.000000</td>\n",
              "      <td id=\"T_3777c_row6_col22\" class=\"data row6 col22\" >0.000000</td>\n",
              "      <td id=\"T_3777c_row6_col23\" class=\"data row6 col23\" >0.000000</td>\n",
              "      <td id=\"T_3777c_row6_col24\" class=\"data row6 col24\" >3.000000</td>\n",
              "      <td id=\"T_3777c_row6_col25\" class=\"data row6 col25\" >30.000000</td>\n",
              "      <td id=\"T_3777c_row6_col26\" class=\"data row6 col26\" >9920.000000</td>\n",
              "      <td id=\"T_3777c_row6_col27\" class=\"data row6 col27\" >7860.000000</td>\n",
              "      <td id=\"T_3777c_row6_col28\" class=\"data row6 col28\" >52.000000</td>\n",
              "      <td id=\"T_3777c_row6_col29\" class=\"data row6 col29\" >149500.000000</td>\n",
              "      <td id=\"T_3777c_row6_col30\" class=\"data row6 col30\" >90000.000000</td>\n",
              "    </tr>\n",
              "    <tr>\n",
              "      <th id=\"T_3777c_level0_row7\" class=\"row_heading level0 row7\" >max</th>\n",
              "      <td id=\"T_3777c_row7_col0\" class=\"data row7 col0\" >2021.000000</td>\n",
              "      <td id=\"T_3777c_row7_col1\" class=\"data row7 col1\" >202101.000000</td>\n",
              "      <td id=\"T_3777c_row7_col2\" class=\"data row7 col2\" >1440865.000000</td>\n",
              "      <td id=\"T_3777c_row7_col3\" class=\"data row7 col3\" >2021010160574.000000</td>\n",
              "      <td id=\"T_3777c_row7_col4\" class=\"data row7 col4\" >2798.000000</td>\n",
              "      <td id=\"T_3777c_row7_col5\" class=\"data row7 col5\" >2021014408651.000000</td>\n",
              "      <td id=\"T_3777c_row7_col6\" class=\"data row7 col6\" >7030155.000000</td>\n",
              "      <td id=\"T_3777c_row7_col7\" class=\"data row7 col7\" >5.000000</td>\n",
              "      <td id=\"T_3777c_row7_col8\" class=\"data row7 col8\" >20.000000</td>\n",
              "      <td id=\"T_3777c_row7_col9\" class=\"data row7 col9\" >3223.000000</td>\n",
              "      <td id=\"T_3777c_row7_col10\" class=\"data row7 col10\" >2.000000</td>\n",
              "      <td id=\"T_3777c_row7_col11\" class=\"data row7 col11\" >96.000000</td>\n",
              "      <td id=\"T_3777c_row7_col12\" class=\"data row7 col12\" >6.000000</td>\n",
              "      <td id=\"T_3777c_row7_col13\" class=\"data row7 col13\" >2021.000000</td>\n",
              "      <td id=\"T_3777c_row7_col14\" class=\"data row7 col14\" >3.000000</td>\n",
              "      <td id=\"T_3777c_row7_col15\" class=\"data row7 col15\" >2.000000</td>\n",
              "      <td id=\"T_3777c_row7_col16\" class=\"data row7 col16\" >2.000000</td>\n",
              "      <td id=\"T_3777c_row7_col17\" class=\"data row7 col17\" >2.000000</td>\n",
              "      <td id=\"T_3777c_row7_col18\" class=\"data row7 col18\" >11.000000</td>\n",
              "      <td id=\"T_3777c_row7_col19\" class=\"data row7 col19\" >116.000000</td>\n",
              "      <td id=\"T_3777c_row7_col20\" class=\"data row7 col20\" >64.000000</td>\n",
              "      <td id=\"T_3777c_row7_col21\" class=\"data row7 col21\" >6403.000000</td>\n",
              "      <td id=\"T_3777c_row7_col22\" class=\"data row7 col22\" >64.000000</td>\n",
              "      <td id=\"T_3777c_row7_col23\" class=\"data row7 col23\" >6403.000000</td>\n",
              "      <td id=\"T_3777c_row7_col24\" class=\"data row7 col24\" >3.000000</td>\n",
              "      <td id=\"T_3777c_row7_col25\" class=\"data row7 col25\" >30.000000</td>\n",
              "      <td id=\"T_3777c_row7_col26\" class=\"data row7 col26\" >9920.000000</td>\n",
              "      <td id=\"T_3777c_row7_col27\" class=\"data row7 col27\" >9920.000000</td>\n",
              "      <td id=\"T_3777c_row7_col28\" class=\"data row7 col28\" >52.000000</td>\n",
              "      <td id=\"T_3777c_row7_col29\" class=\"data row7 col29\" >9999999.000000</td>\n",
              "      <td id=\"T_3777c_row7_col30\" class=\"data row7 col30\" >999999.000000</td>\n",
              "    </tr>\n",
              "  </tbody>\n",
              "</table>\n"
            ]
          },
          "metadata": {},
          "execution_count": 7
        }
      ]
    },
    {
      "cell_type": "code",
      "source": [
        "df[\"FTOTINC\"].value_counts()"
      ],
      "metadata": {
        "colab": {
          "base_uri": "https://localhost:8080/"
        },
        "id": "Mr3ptVyByQRc",
        "outputId": "20e2db55-2454-49c6-f31d-eda88c43d0dd"
      },
      "execution_count": 8,
      "outputs": [
        {
          "output_type": "execute_result",
          "data": {
            "text/plain": [
              "9999999    163874\n",
              "0           47529\n",
              "50000       27362\n",
              "40000       25954\n",
              "60000       25804\n",
              "            ...  \n",
              "232590          1\n",
              "330510          1\n",
              "128060          1\n",
              "1428000         1\n",
              "507840          1\n",
              "Name: FTOTINC, Length: 31326, dtype: int64"
            ]
          },
          "metadata": {},
          "execution_count": 8
        }
      ]
    },
    {
      "cell_type": "code",
      "source": [
        "df[\"INCWAGE\"].value_counts()"
      ],
      "metadata": {
        "colab": {
          "base_uri": "https://localhost:8080/"
        },
        "id": "mDe-4SF3zMUU",
        "outputId": "1bea5965-52ca-4bfb-995e-ad5d7665c3bc"
      },
      "execution_count": 9,
      "outputs": [
        {
          "output_type": "execute_result",
          "data": {
            "text/plain": [
              "0         1159371\n",
              "999999     549819\n",
              "50000       48682\n",
              "40000       46840\n",
              "30000       46459\n",
              "           ...   \n",
              "448000          1\n",
              "468000          1\n",
              "435000          1\n",
              "406000          1\n",
              "388000          1\n",
              "Name: INCWAGE, Length: 1009, dtype: int64"
            ]
          },
          "metadata": {},
          "execution_count": 9
        }
      ]
    },
    {
      "cell_type": "code",
      "source": [
        "df_nan = df.copy()\n",
        "df_nan[\"FTOTINC\"] = df[\"FTOTINC\"].replace(9999999, np.nan)\n",
        "df_nan[\"INCWAGE\"] = df[\"INCWAGE\"].replace(999999, np.nan)\n",
        "\n",
        "df_nan.max()"
      ],
      "metadata": {
        "colab": {
          "base_uri": "https://localhost:8080/"
        },
        "id": "pKbV5mt03ePA",
        "outputId": "7e3902ed-beb7-4d13-9ced-c45b2df5cde7"
      },
      "execution_count": 5,
      "outputs": [
        {
          "output_type": "execute_result",
          "data": {
            "text/plain": [
              "YEAR                   2021\n",
              "SAMPLE               202101\n",
              "SERIAL              1440865\n",
              "CBSERIAL      2021010160574\n",
              "HHWT                   2798\n",
              "CLUSTER       2021014408651\n",
              "STRATA              7030155\n",
              "GQ                        5\n",
              "PERNUM                   20\n",
              "PERWT                  3223\n",
              "SEX                       2\n",
              "AGE                      96\n",
              "MARST                     6\n",
              "BIRTHYR                2021\n",
              "MARRNO                    3\n",
              "DIVINYR                   2\n",
              "WIDINYR                   2\n",
              "SCHOOL                    2\n",
              "EDUC                     11\n",
              "EDUCD                   116\n",
              "DEGFIELD                 64\n",
              "DEGFIELDD              6403\n",
              "DEGFIELD2                64\n",
              "DEGFIELD2D             6403\n",
              "EMPSTAT                   3\n",
              "EMPSTATD                 30\n",
              "OCC2010                9920\n",
              "IND                    9920\n",
              "INDNAICS             999920\n",
              "WKSWORK1                 52\n",
              "FTOTINC           2508000.0\n",
              "INCWAGE            787000.0\n",
              "dtype: object"
            ]
          },
          "metadata": {},
          "execution_count": 5
        }
      ]
    },
    {
      "cell_type": "markdown",
      "source": [
        "### Imputation of missing data \n",
        "There are several techniques we may impute the missing data, and we will examine the bias-variance tradeoff using the [MLxtend](http://rasbt.github.io/mlxtend/) Library. \n",
        "\n",
        "\n",
        "*   Substitution by mean\n",
        "*   Substitution by median\n",
        "*   Model Imputation\n",
        "*   Maximum Likelihood Imputation\n",
        "*   Multiple Imputation \n",
        "\n",
        "Papers: \n",
        "\n",
        "*   Kang H. [The prevention and handling of the missing data.](https://www.ncbi.nlm.nih.gov/pmc/articles/PMC3668100/) Korean J Anesthesiol. 2013 May;64(5):402-6. doi: 10.4097/kjae.2013.64.5.402. Epub 2013 May 24. PMID: 23741561; PMCID: PMC3668100.\n",
        "*   Allison, Paul D. “[Handling Missing Data by Maximum Likelihood.](https://statisticalhorizons.com/wp-content/uploads/MissingDataByML.pdf)” (2012). \n",
        "\n",
        "\n"
      ],
      "metadata": {
        "id": "mqE_RgYG7ttg"
      }
    },
    {
      "cell_type": "markdown",
      "source": [
        "#### Substitution by mean \n",
        "I opted not to split the data into train and test, but I could have. I am\n",
        "treating the NaN data as the target variable and doing simple imputation. "
      ],
      "metadata": {
        "id": "trBvS9e4_cMp"
      }
    },
    {
      "cell_type": "code",
      "source": [
        "df_nan.isnull().sum()"
      ],
      "metadata": {
        "id": "mBynZ9d0eUFV",
        "outputId": "07d3aef2-d41a-45d0-a4ea-672c63172093",
        "colab": {
          "base_uri": "https://localhost:8080/"
        }
      },
      "execution_count": 12,
      "outputs": [
        {
          "output_type": "execute_result",
          "data": {
            "text/plain": [
              "YEAR               0\n",
              "SAMPLE             0\n",
              "SERIAL             0\n",
              "CBSERIAL           0\n",
              "HHWT               0\n",
              "CLUSTER            0\n",
              "STRATA             0\n",
              "GQ                 0\n",
              "PERNUM             0\n",
              "PERWT              0\n",
              "SEX                0\n",
              "AGE                0\n",
              "MARST              0\n",
              "BIRTHYR            0\n",
              "MARRNO             0\n",
              "DIVINYR            0\n",
              "WIDINYR            0\n",
              "SCHOOL             0\n",
              "EDUC               0\n",
              "EDUCD              0\n",
              "DEGFIELD           0\n",
              "DEGFIELDD          0\n",
              "DEGFIELD2          0\n",
              "DEGFIELD2D         0\n",
              "EMPSTAT            0\n",
              "EMPSTATD           0\n",
              "OCC2010            0\n",
              "IND                0\n",
              "INDNAICS           0\n",
              "WKSWORK1           0\n",
              "FTOTINC       163874\n",
              "INCWAGE       549819\n",
              "dtype: int64"
            ]
          },
          "metadata": {},
          "execution_count": 12
        }
      ]
    },
    {
      "cell_type": "code",
      "source": [
        "from sklearn.impute import SimpleImputer\n",
        "train_mean = df_nan[['BIRTHYR','FTOTINC','INCWAGE']].copy()\n",
        "mean_imputer = SimpleImputer(strategy='mean')\n",
        "train_mean.iloc[:,:] = mean_imputer.fit_transform(train_mean)\n",
        "train_mean.isnull().sum()\n",
        "df_mean = df_nan.fillna(train_mean)\n",
        "df_mean.isnull().sum()"
      ],
      "metadata": {
        "colab": {
          "base_uri": "https://localhost:8080/"
        },
        "id": "oFFJyp9f5T-z",
        "outputId": "1ded7e76-6ee7-4567-8d11-1e71b3533349"
      },
      "execution_count": 22,
      "outputs": [
        {
          "output_type": "stream",
          "name": "stderr",
          "text": [
            "<ipython-input-22-cbb6edf2d5a8>:4: DeprecationWarning: In a future version, `df.iloc[:, i] = newvals` will attempt to set the values inplace instead of always setting a new array. To retain the old behavior, use either `df[df.columns[i]] = newvals` or, if columns are non-unique, `df.isetitem(i, newvals)`\n",
            "  train_mean.iloc[:,:] = mean_imputer.fit_transform(train_mean)\n"
          ]
        },
        {
          "output_type": "execute_result",
          "data": {
            "text/plain": [
              "YEAR          0\n",
              "SAMPLE        0\n",
              "SERIAL        0\n",
              "CBSERIAL      0\n",
              "HHWT          0\n",
              "CLUSTER       0\n",
              "STRATA        0\n",
              "GQ            0\n",
              "PERNUM        0\n",
              "PERWT         0\n",
              "SEX           0\n",
              "AGE           0\n",
              "MARST         0\n",
              "BIRTHYR       0\n",
              "MARRNO        0\n",
              "DIVINYR       0\n",
              "WIDINYR       0\n",
              "SCHOOL        0\n",
              "EDUC          0\n",
              "EDUCD         0\n",
              "DEGFIELD      0\n",
              "DEGFIELDD     0\n",
              "DEGFIELD2     0\n",
              "DEGFIELD2D    0\n",
              "EMPSTAT       0\n",
              "EMPSTATD      0\n",
              "OCC2010       0\n",
              "IND           0\n",
              "INDNAICS      0\n",
              "WKSWORK1      0\n",
              "FTOTINC       0\n",
              "INCWAGE       0\n",
              "dtype: int64"
            ]
          },
          "metadata": {},
          "execution_count": 22
        }
      ]
    },
    {
      "cell_type": "markdown",
      "source": [
        "#### Substitution by median"
      ],
      "metadata": {
        "id": "f36eIFzh7b5e"
      }
    },
    {
      "cell_type": "code",
      "source": [
        "from sklearn.impute import SimpleImputer\n",
        "train_median = df_nan[['BIRTHYR','FTOTINC','INCWAGE']].copy()\n",
        "median_imputer = SimpleImputer(strategy='median')\n",
        "train_median.iloc[:,:] = median_imputer.fit_transform(train_median)\n",
        "train_median.isnull().sum()\n",
        "df_median = df_nan.fillna(train_median)\n",
        "df_median.isnull().sum()"
      ],
      "metadata": {
        "id": "jjqmXPqZ5UCd",
        "colab": {
          "base_uri": "https://localhost:8080/"
        },
        "outputId": "273d38f5-83cb-4f1d-b5a2-2fa6ca7a29f9"
      },
      "execution_count": 23,
      "outputs": [
        {
          "output_type": "stream",
          "name": "stderr",
          "text": [
            "<ipython-input-23-fe080b6983d3>:4: DeprecationWarning: In a future version, `df.iloc[:, i] = newvals` will attempt to set the values inplace instead of always setting a new array. To retain the old behavior, use either `df[df.columns[i]] = newvals` or, if columns are non-unique, `df.isetitem(i, newvals)`\n",
            "  train_median.iloc[:,:] = median_imputer.fit_transform(train_median)\n"
          ]
        },
        {
          "output_type": "execute_result",
          "data": {
            "text/plain": [
              "YEAR          0\n",
              "SAMPLE        0\n",
              "SERIAL        0\n",
              "CBSERIAL      0\n",
              "HHWT          0\n",
              "CLUSTER       0\n",
              "STRATA        0\n",
              "GQ            0\n",
              "PERNUM        0\n",
              "PERWT         0\n",
              "SEX           0\n",
              "AGE           0\n",
              "MARST         0\n",
              "BIRTHYR       0\n",
              "MARRNO        0\n",
              "DIVINYR       0\n",
              "WIDINYR       0\n",
              "SCHOOL        0\n",
              "EDUC          0\n",
              "EDUCD         0\n",
              "DEGFIELD      0\n",
              "DEGFIELDD     0\n",
              "DEGFIELD2     0\n",
              "DEGFIELD2D    0\n",
              "EMPSTAT       0\n",
              "EMPSTATD      0\n",
              "OCC2010       0\n",
              "IND           0\n",
              "INDNAICS      0\n",
              "WKSWORK1      0\n",
              "FTOTINC       0\n",
              "INCWAGE       0\n",
              "dtype: int64"
            ]
          },
          "metadata": {},
          "execution_count": 23
        }
      ]
    },
    {
      "cell_type": "markdown",
      "source": [
        "#### Model Imputation"
      ],
      "metadata": {
        "id": "-J7zFFE57dfW"
      }
    },
    {
      "cell_type": "code",
      "source": [],
      "metadata": {
        "id": "j32QBRG27dnJ"
      },
      "execution_count": null,
      "outputs": []
    },
    {
      "cell_type": "markdown",
      "source": [
        "#### Maximum Likelihood Imputation"
      ],
      "metadata": {
        "id": "AV15qMjc7dtE"
      }
    },
    {
      "cell_type": "code",
      "source": [],
      "metadata": {
        "id": "totqQeAc7dzx"
      },
      "execution_count": null,
      "outputs": []
    },
    {
      "cell_type": "markdown",
      "source": [
        "#### Multiple Imputation"
      ],
      "metadata": {
        "id": "T2_pSoNe7d6M"
      }
    },
    {
      "cell_type": "code",
      "source": [],
      "metadata": {
        "id": "PrS5Bj3T7eAa"
      },
      "execution_count": null,
      "outputs": []
    },
    {
      "cell_type": "markdown",
      "source": [
        "## Part 2: Creating the database -- SQL "
      ],
      "metadata": {
        "id": "GSLNjqr-5Olw"
      }
    },
    {
      "cell_type": "code",
      "source": [
        "conn = sqlite3.connect('censusData.db')\n",
        "df_median.to_sql('censusDatabase', con = conn, if_exists='replace', index=False)\n",
        "pd.read_sql('SELECT * FROM censusDatabase WHERE AGE > \"40\"', con = conn).head()"
      ],
      "metadata": {
        "colab": {
          "base_uri": "https://localhost:8080/",
          "height": 280
        },
        "id": "HbmspDkk5UKK",
        "outputId": "da62fdf8-a0c6-4448-f21f-c97b1c2b8974"
      },
      "execution_count": 24,
      "outputs": [
        {
          "output_type": "execute_result",
          "data": {
            "text/plain": [
              "   YEAR  SAMPLE  SERIAL       CBSERIAL  HHWT        CLUSTER  STRATA  GQ  \\\n",
              "0  2021  202101       1  2021010000026    13  2021000000011   80001   3   \n",
              "1  2021  202101       2  2021010000031    51  2021000000021   80001   3   \n",
              "2  2021  202101       3  2021010000063    17  2021000000031  120001   3   \n",
              "3  2021  202101       5  2021010000100    15  2021000000051   50001   3   \n",
              "4  2021  202101       9  2021010000401    71  2021000000091  120001   3   \n",
              "\n",
              "   PERNUM  PERWT  ...  DEGFIELD2  DEGFIELD2D  EMPSTAT  EMPSTATD  OCC2010  IND  \\\n",
              "0       1     13  ...          0           0        3        30     9920    0   \n",
              "1       1     51  ...          0           0        3        30     9920    0   \n",
              "2       1     17  ...          0           0        3        30     9920    0   \n",
              "3       1     15  ...          0           0        3        30     9920    0   \n",
              "4       1     71  ...          0           0        3        30     9920    0   \n",
              "\n",
              "   INDNAICS  WKSWORK1  FTOTINC  INCWAGE  \n",
              "0         0         0  76800.0      0.0  \n",
              "1         0         0  76800.0      0.0  \n",
              "2         0         0  76800.0      0.0  \n",
              "3         0         0  76800.0      0.0  \n",
              "4         0         0  76800.0      0.0  \n",
              "\n",
              "[5 rows x 32 columns]"
            ],
            "text/html": [
              "\n",
              "  <div id=\"df-b4e74b4d-b460-4daf-ace8-77a86f20d988\">\n",
              "    <div class=\"colab-df-container\">\n",
              "      <div>\n",
              "<style scoped>\n",
              "    .dataframe tbody tr th:only-of-type {\n",
              "        vertical-align: middle;\n",
              "    }\n",
              "\n",
              "    .dataframe tbody tr th {\n",
              "        vertical-align: top;\n",
              "    }\n",
              "\n",
              "    .dataframe thead th {\n",
              "        text-align: right;\n",
              "    }\n",
              "</style>\n",
              "<table border=\"1\" class=\"dataframe\">\n",
              "  <thead>\n",
              "    <tr style=\"text-align: right;\">\n",
              "      <th></th>\n",
              "      <th>YEAR</th>\n",
              "      <th>SAMPLE</th>\n",
              "      <th>SERIAL</th>\n",
              "      <th>CBSERIAL</th>\n",
              "      <th>HHWT</th>\n",
              "      <th>CLUSTER</th>\n",
              "      <th>STRATA</th>\n",
              "      <th>GQ</th>\n",
              "      <th>PERNUM</th>\n",
              "      <th>PERWT</th>\n",
              "      <th>...</th>\n",
              "      <th>DEGFIELD2</th>\n",
              "      <th>DEGFIELD2D</th>\n",
              "      <th>EMPSTAT</th>\n",
              "      <th>EMPSTATD</th>\n",
              "      <th>OCC2010</th>\n",
              "      <th>IND</th>\n",
              "      <th>INDNAICS</th>\n",
              "      <th>WKSWORK1</th>\n",
              "      <th>FTOTINC</th>\n",
              "      <th>INCWAGE</th>\n",
              "    </tr>\n",
              "  </thead>\n",
              "  <tbody>\n",
              "    <tr>\n",
              "      <th>0</th>\n",
              "      <td>2021</td>\n",
              "      <td>202101</td>\n",
              "      <td>1</td>\n",
              "      <td>2021010000026</td>\n",
              "      <td>13</td>\n",
              "      <td>2021000000011</td>\n",
              "      <td>80001</td>\n",
              "      <td>3</td>\n",
              "      <td>1</td>\n",
              "      <td>13</td>\n",
              "      <td>...</td>\n",
              "      <td>0</td>\n",
              "      <td>0</td>\n",
              "      <td>3</td>\n",
              "      <td>30</td>\n",
              "      <td>9920</td>\n",
              "      <td>0</td>\n",
              "      <td>0</td>\n",
              "      <td>0</td>\n",
              "      <td>76800.0</td>\n",
              "      <td>0.0</td>\n",
              "    </tr>\n",
              "    <tr>\n",
              "      <th>1</th>\n",
              "      <td>2021</td>\n",
              "      <td>202101</td>\n",
              "      <td>2</td>\n",
              "      <td>2021010000031</td>\n",
              "      <td>51</td>\n",
              "      <td>2021000000021</td>\n",
              "      <td>80001</td>\n",
              "      <td>3</td>\n",
              "      <td>1</td>\n",
              "      <td>51</td>\n",
              "      <td>...</td>\n",
              "      <td>0</td>\n",
              "      <td>0</td>\n",
              "      <td>3</td>\n",
              "      <td>30</td>\n",
              "      <td>9920</td>\n",
              "      <td>0</td>\n",
              "      <td>0</td>\n",
              "      <td>0</td>\n",
              "      <td>76800.0</td>\n",
              "      <td>0.0</td>\n",
              "    </tr>\n",
              "    <tr>\n",
              "      <th>2</th>\n",
              "      <td>2021</td>\n",
              "      <td>202101</td>\n",
              "      <td>3</td>\n",
              "      <td>2021010000063</td>\n",
              "      <td>17</td>\n",
              "      <td>2021000000031</td>\n",
              "      <td>120001</td>\n",
              "      <td>3</td>\n",
              "      <td>1</td>\n",
              "      <td>17</td>\n",
              "      <td>...</td>\n",
              "      <td>0</td>\n",
              "      <td>0</td>\n",
              "      <td>3</td>\n",
              "      <td>30</td>\n",
              "      <td>9920</td>\n",
              "      <td>0</td>\n",
              "      <td>0</td>\n",
              "      <td>0</td>\n",
              "      <td>76800.0</td>\n",
              "      <td>0.0</td>\n",
              "    </tr>\n",
              "    <tr>\n",
              "      <th>3</th>\n",
              "      <td>2021</td>\n",
              "      <td>202101</td>\n",
              "      <td>5</td>\n",
              "      <td>2021010000100</td>\n",
              "      <td>15</td>\n",
              "      <td>2021000000051</td>\n",
              "      <td>50001</td>\n",
              "      <td>3</td>\n",
              "      <td>1</td>\n",
              "      <td>15</td>\n",
              "      <td>...</td>\n",
              "      <td>0</td>\n",
              "      <td>0</td>\n",
              "      <td>3</td>\n",
              "      <td>30</td>\n",
              "      <td>9920</td>\n",
              "      <td>0</td>\n",
              "      <td>0</td>\n",
              "      <td>0</td>\n",
              "      <td>76800.0</td>\n",
              "      <td>0.0</td>\n",
              "    </tr>\n",
              "    <tr>\n",
              "      <th>4</th>\n",
              "      <td>2021</td>\n",
              "      <td>202101</td>\n",
              "      <td>9</td>\n",
              "      <td>2021010000401</td>\n",
              "      <td>71</td>\n",
              "      <td>2021000000091</td>\n",
              "      <td>120001</td>\n",
              "      <td>3</td>\n",
              "      <td>1</td>\n",
              "      <td>71</td>\n",
              "      <td>...</td>\n",
              "      <td>0</td>\n",
              "      <td>0</td>\n",
              "      <td>3</td>\n",
              "      <td>30</td>\n",
              "      <td>9920</td>\n",
              "      <td>0</td>\n",
              "      <td>0</td>\n",
              "      <td>0</td>\n",
              "      <td>76800.0</td>\n",
              "      <td>0.0</td>\n",
              "    </tr>\n",
              "  </tbody>\n",
              "</table>\n",
              "<p>5 rows × 32 columns</p>\n",
              "</div>\n",
              "      <button class=\"colab-df-convert\" onclick=\"convertToInteractive('df-b4e74b4d-b460-4daf-ace8-77a86f20d988')\"\n",
              "              title=\"Convert this dataframe to an interactive table.\"\n",
              "              style=\"display:none;\">\n",
              "        \n",
              "  <svg xmlns=\"http://www.w3.org/2000/svg\" height=\"24px\"viewBox=\"0 0 24 24\"\n",
              "       width=\"24px\">\n",
              "    <path d=\"M0 0h24v24H0V0z\" fill=\"none\"/>\n",
              "    <path d=\"M18.56 5.44l.94 2.06.94-2.06 2.06-.94-2.06-.94-.94-2.06-.94 2.06-2.06.94zm-11 1L8.5 8.5l.94-2.06 2.06-.94-2.06-.94L8.5 2.5l-.94 2.06-2.06.94zm10 10l.94 2.06.94-2.06 2.06-.94-2.06-.94-.94-2.06-.94 2.06-2.06.94z\"/><path d=\"M17.41 7.96l-1.37-1.37c-.4-.4-.92-.59-1.43-.59-.52 0-1.04.2-1.43.59L10.3 9.45l-7.72 7.72c-.78.78-.78 2.05 0 2.83L4 21.41c.39.39.9.59 1.41.59.51 0 1.02-.2 1.41-.59l7.78-7.78 2.81-2.81c.8-.78.8-2.07 0-2.86zM5.41 20L4 18.59l7.72-7.72 1.47 1.35L5.41 20z\"/>\n",
              "  </svg>\n",
              "      </button>\n",
              "      \n",
              "  <style>\n",
              "    .colab-df-container {\n",
              "      display:flex;\n",
              "      flex-wrap:wrap;\n",
              "      gap: 12px;\n",
              "    }\n",
              "\n",
              "    .colab-df-convert {\n",
              "      background-color: #E8F0FE;\n",
              "      border: none;\n",
              "      border-radius: 50%;\n",
              "      cursor: pointer;\n",
              "      display: none;\n",
              "      fill: #1967D2;\n",
              "      height: 32px;\n",
              "      padding: 0 0 0 0;\n",
              "      width: 32px;\n",
              "    }\n",
              "\n",
              "    .colab-df-convert:hover {\n",
              "      background-color: #E2EBFA;\n",
              "      box-shadow: 0px 1px 2px rgba(60, 64, 67, 0.3), 0px 1px 3px 1px rgba(60, 64, 67, 0.15);\n",
              "      fill: #174EA6;\n",
              "    }\n",
              "\n",
              "    [theme=dark] .colab-df-convert {\n",
              "      background-color: #3B4455;\n",
              "      fill: #D2E3FC;\n",
              "    }\n",
              "\n",
              "    [theme=dark] .colab-df-convert:hover {\n",
              "      background-color: #434B5C;\n",
              "      box-shadow: 0px 1px 3px 1px rgba(0, 0, 0, 0.15);\n",
              "      filter: drop-shadow(0px 1px 2px rgba(0, 0, 0, 0.3));\n",
              "      fill: #FFFFFF;\n",
              "    }\n",
              "  </style>\n",
              "\n",
              "      <script>\n",
              "        const buttonEl =\n",
              "          document.querySelector('#df-b4e74b4d-b460-4daf-ace8-77a86f20d988 button.colab-df-convert');\n",
              "        buttonEl.style.display =\n",
              "          google.colab.kernel.accessAllowed ? 'block' : 'none';\n",
              "\n",
              "        async function convertToInteractive(key) {\n",
              "          const element = document.querySelector('#df-b4e74b4d-b460-4daf-ace8-77a86f20d988');\n",
              "          const dataTable =\n",
              "            await google.colab.kernel.invokeFunction('convertToInteractive',\n",
              "                                                     [key], {});\n",
              "          if (!dataTable) return;\n",
              "\n",
              "          const docLinkHtml = 'Like what you see? Visit the ' +\n",
              "            '<a target=\"_blank\" href=https://colab.research.google.com/notebooks/data_table.ipynb>data table notebook</a>'\n",
              "            + ' to learn more about interactive tables.';\n",
              "          element.innerHTML = '';\n",
              "          dataTable['output_type'] = 'display_data';\n",
              "          await google.colab.output.renderOutput(dataTable, element);\n",
              "          const docLink = document.createElement('div');\n",
              "          docLink.innerHTML = docLinkHtml;\n",
              "          element.appendChild(docLink);\n",
              "        }\n",
              "      </script>\n",
              "    </div>\n",
              "  </div>\n",
              "  "
            ]
          },
          "metadata": {},
          "execution_count": 24
        }
      ]
    },
    {
      "cell_type": "markdown",
      "source": [
        "References: \n",
        "\n",
        "**Data Set**\n",
        "\n",
        "Steven Ruggles, Sarah Flood, Matthew Sobek, Danika Brockman, Grace Cooper,  Stephanie Richards, and Megan Schouweiler. IPUMS USA: Version 13.0 [dataset]. Minneapolis, MN: IPUMS, 2023. https://doi.org/10.18128/D010.V13.0"
      ],
      "metadata": {
        "id": "l3QTLSk9Rn9D"
      }
    }
  ]
}