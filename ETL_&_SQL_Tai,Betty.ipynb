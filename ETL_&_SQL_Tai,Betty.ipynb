{
  "nbformat": 4,
  "nbformat_minor": 0,
  "metadata": {
    "colab": {
      "provenance": [],
      "mount_file_id": "1VQw-m4S8Umw7oFXmpIdtiiXenPfy9FV_",
      "authorship_tag": "ABX9TyMYcWYasrVe+aDbbfPdabVY",
      "include_colab_link": true
    },
    "kernelspec": {
      "name": "python3",
      "display_name": "Python 3"
    },
    "language_info": {
      "name": "python"
    }
  },
  "cells": [
    {
      "cell_type": "markdown",
      "metadata": {
        "id": "view-in-github",
        "colab_type": "text"
      },
      "source": [
        "<a href=\"https://colab.research.google.com/github/1digitaldesign/sample-code/blob/main/ETL_%26_SQL_Tai%2CBetty.ipynb\" target=\"_parent\"><img src=\"https://colab.research.google.com/assets/colab-badge.svg\" alt=\"Open In Colab\"/></a>"
      ]
    },
    {
      "cell_type": "markdown",
      "source": [
        "# Notebook Setup\n",
        "\n",
        "* Part 1. ETL\n",
        "\n",
        "* Part 2. SQL "
      ],
      "metadata": {
        "id": "qbNtUvQB5hVu"
      }
    },
    {
      "cell_type": "markdown",
      "source": [
        "## Part 1: ETL\n"
      ],
      "metadata": {
        "id": "y51NI-DvR8cf"
      }
    },
    {
      "cell_type": "code",
      "execution_count": 1,
      "metadata": {
        "id": "5SRDSMylONUW",
        "cellView": "form"
      },
      "outputs": [],
      "source": [
        "#@title Installation of Necessary Packages \n",
        "%%capture\n",
        "!pip3 install pyspark\n",
        "!pip3 install hide_code\n",
        "!pip3 install fancyimpute\n",
        "!pip3 install miceforest\n",
        "!pip3 install scikit-learn\n",
        "%pip install mlxtend --upgrade"
      ]
    },
    {
      "cell_type": "markdown",
      "source": [
        "On the left, download the dataset [`usa_00001.csv`](https://drive.google.com/file/d/128-eo8QVTYu20aRzA_-7OTxPOjyS-SRp/view?usp=share_link) and on the left hand side, there is a folder to click on called `Files` and then `Upload to Session Storage` this file [`usa_00001.csv`](https://drive.google.com/file/d/128-eo8QVTYu20aRzA_-7OTxPOjyS-SRp/view?usp=share_link). "
      ],
      "metadata": {
        "id": "x8qw5hIRQ-gV"
      }
    },
    {
      "cell_type": "code",
      "source": [
        "#@title Installation of Necessary Libraries \n",
        "import pyspark\n",
        "from pyspark.sql import SparkSession\n",
        "import pandas as pd\n",
        "import numpy as np\n",
        "import sqlite3\n",
        "import requests\n",
        "import os\n",
        "import seaborn as sns\n",
        "import matplotlib.pyplot as plt"
      ],
      "metadata": {
        "id": "UEo9HGP2SjPq",
        "cellView": "form"
      },
      "execution_count": 2,
      "outputs": []
    },
    {
      "cell_type": "markdown",
      "source": [
        "## Data Extraction"
      ],
      "metadata": {
        "id": "4DHflXUj36Pg"
      }
    },
    {
      "cell_type": "code",
      "source": [
        "df = pd.read_csv('/content/usa_00001.csv')"
      ],
      "metadata": {
        "id": "HUu5-115kms8"
      },
      "execution_count": 3,
      "outputs": []
    },
    {
      "cell_type": "markdown",
      "source": [
        "## Data Transformation\n",
        "Data transformation is an integral step for data analysis and modeling without errors and improve the performance of the data. \n",
        "\n",
        "* Cleaning \n",
        "* Normalization\n",
        "* Reduction\n",
        "* Discretization\n",
        "* Aggregation\n",
        "\n",
        "\n",
        "\n",
        "\n"
      ],
      "metadata": {
        "id": "BWPDtHrkt8xT"
      }
    },
    {
      "cell_type": "code",
      "source": [
        "df.isnull().sum()\n",
        "df.shape"
      ],
      "metadata": {
        "colab": {
          "base_uri": "https://localhost:8080/"
        },
        "id": "FE5EBaaEtEu1",
        "outputId": "849cf366-268d-44b3-b8bf-2346dafd5170"
      },
      "execution_count": 4,
      "outputs": [
        {
          "output_type": "execute_result",
          "data": {
            "text/plain": [
              "(438666, 32)"
            ]
          },
          "metadata": {},
          "execution_count": 4
        }
      ]
    },
    {
      "cell_type": "code",
      "source": [
        "for col_name in df.columns: \n",
        "    print(col_name)"
      ],
      "metadata": {
        "colab": {
          "base_uri": "https://localhost:8080/"
        },
        "id": "PeI68T7PtkXf",
        "outputId": "cb54f39b-77ef-45b6-8e2b-0abef5e48216"
      },
      "execution_count": 5,
      "outputs": [
        {
          "output_type": "stream",
          "name": "stdout",
          "text": [
            "YEAR\n",
            "SAMPLE\n",
            "SERIAL\n",
            "CBSERIAL\n",
            "HHWT\n",
            "CLUSTER\n",
            "STRATA\n",
            "GQ\n",
            "PERNUM\n",
            "PERWT\n",
            "SEX\n",
            "AGE\n",
            "MARST\n",
            "BIRTHYR\n",
            "MARRNO\n",
            "DIVINYR\n",
            "WIDINYR\n",
            "SCHOOL\n",
            "EDUC\n",
            "EDUCD\n",
            "DEGFIELD\n",
            "DEGFIELDD\n",
            "DEGFIELD2\n",
            "DEGFIELD2D\n",
            "EMPSTAT\n",
            "EMPSTATD\n",
            "OCC2010\n",
            "IND\n",
            "INDNAICS\n",
            "WKSWORK1\n",
            "FTOTINC\n",
            "INCWAGE\n"
          ]
        }
      ]
    },
    {
      "cell_type": "code",
      "source": [
        "df.describe().style.highlight_max(color=\"darkred\")"
      ],
      "metadata": {
        "colab": {
          "base_uri": "https://localhost:8080/",
          "height": 320
        },
        "id": "wCVQsYB8xSLx",
        "outputId": "4e1b8d94-b17b-4d69-c218-19b774ad3d0f"
      },
      "execution_count": 6,
      "outputs": [
        {
          "output_type": "execute_result",
          "data": {
            "text/plain": [
              "<pandas.io.formats.style.Styler at 0x7fcb702a9720>"
            ],
            "text/html": [
              "<style type=\"text/css\">\n",
              "#T_8a60d_row0_col0, #T_8a60d_row0_col1, #T_8a60d_row0_col2, #T_8a60d_row0_col4, #T_8a60d_row0_col7, #T_8a60d_row0_col8, #T_8a60d_row0_col9, #T_8a60d_row0_col10, #T_8a60d_row0_col11, #T_8a60d_row0_col12, #T_8a60d_row0_col13, #T_8a60d_row0_col14, #T_8a60d_row0_col15, #T_8a60d_row0_col16, #T_8a60d_row0_col17, #T_8a60d_row0_col18, #T_8a60d_row0_col19, #T_8a60d_row0_col20, #T_8a60d_row0_col21, #T_8a60d_row0_col22, #T_8a60d_row0_col23, #T_8a60d_row0_col24, #T_8a60d_row0_col25, #T_8a60d_row0_col26, #T_8a60d_row0_col27, #T_8a60d_row0_col28, #T_8a60d_row7_col3, #T_8a60d_row7_col5, #T_8a60d_row7_col6, #T_8a60d_row7_col29, #T_8a60d_row7_col30 {\n",
              "  background-color: darkred;\n",
              "}\n",
              "</style>\n",
              "<table id=\"T_8a60d\" class=\"dataframe\">\n",
              "  <thead>\n",
              "    <tr>\n",
              "      <th class=\"blank level0\" >&nbsp;</th>\n",
              "      <th id=\"T_8a60d_level0_col0\" class=\"col_heading level0 col0\" >YEAR</th>\n",
              "      <th id=\"T_8a60d_level0_col1\" class=\"col_heading level0 col1\" >SAMPLE</th>\n",
              "      <th id=\"T_8a60d_level0_col2\" class=\"col_heading level0 col2\" >SERIAL</th>\n",
              "      <th id=\"T_8a60d_level0_col3\" class=\"col_heading level0 col3\" >CBSERIAL</th>\n",
              "      <th id=\"T_8a60d_level0_col4\" class=\"col_heading level0 col4\" >HHWT</th>\n",
              "      <th id=\"T_8a60d_level0_col5\" class=\"col_heading level0 col5\" >CLUSTER</th>\n",
              "      <th id=\"T_8a60d_level0_col6\" class=\"col_heading level0 col6\" >STRATA</th>\n",
              "      <th id=\"T_8a60d_level0_col7\" class=\"col_heading level0 col7\" >GQ</th>\n",
              "      <th id=\"T_8a60d_level0_col8\" class=\"col_heading level0 col8\" >PERNUM</th>\n",
              "      <th id=\"T_8a60d_level0_col9\" class=\"col_heading level0 col9\" >PERWT</th>\n",
              "      <th id=\"T_8a60d_level0_col10\" class=\"col_heading level0 col10\" >SEX</th>\n",
              "      <th id=\"T_8a60d_level0_col11\" class=\"col_heading level0 col11\" >AGE</th>\n",
              "      <th id=\"T_8a60d_level0_col12\" class=\"col_heading level0 col12\" >MARST</th>\n",
              "      <th id=\"T_8a60d_level0_col13\" class=\"col_heading level0 col13\" >BIRTHYR</th>\n",
              "      <th id=\"T_8a60d_level0_col14\" class=\"col_heading level0 col14\" >MARRNO</th>\n",
              "      <th id=\"T_8a60d_level0_col15\" class=\"col_heading level0 col15\" >DIVINYR</th>\n",
              "      <th id=\"T_8a60d_level0_col16\" class=\"col_heading level0 col16\" >WIDINYR</th>\n",
              "      <th id=\"T_8a60d_level0_col17\" class=\"col_heading level0 col17\" >SCHOOL</th>\n",
              "      <th id=\"T_8a60d_level0_col18\" class=\"col_heading level0 col18\" >EDUC</th>\n",
              "      <th id=\"T_8a60d_level0_col19\" class=\"col_heading level0 col19\" >EDUCD</th>\n",
              "      <th id=\"T_8a60d_level0_col20\" class=\"col_heading level0 col20\" >DEGFIELD</th>\n",
              "      <th id=\"T_8a60d_level0_col21\" class=\"col_heading level0 col21\" >DEGFIELDD</th>\n",
              "      <th id=\"T_8a60d_level0_col22\" class=\"col_heading level0 col22\" >DEGFIELD2</th>\n",
              "      <th id=\"T_8a60d_level0_col23\" class=\"col_heading level0 col23\" >DEGFIELD2D</th>\n",
              "      <th id=\"T_8a60d_level0_col24\" class=\"col_heading level0 col24\" >EMPSTAT</th>\n",
              "      <th id=\"T_8a60d_level0_col25\" class=\"col_heading level0 col25\" >EMPSTATD</th>\n",
              "      <th id=\"T_8a60d_level0_col26\" class=\"col_heading level0 col26\" >OCC2010</th>\n",
              "      <th id=\"T_8a60d_level0_col27\" class=\"col_heading level0 col27\" >IND</th>\n",
              "      <th id=\"T_8a60d_level0_col28\" class=\"col_heading level0 col28\" >WKSWORK1</th>\n",
              "      <th id=\"T_8a60d_level0_col29\" class=\"col_heading level0 col29\" >FTOTINC</th>\n",
              "      <th id=\"T_8a60d_level0_col30\" class=\"col_heading level0 col30\" >INCWAGE</th>\n",
              "    </tr>\n",
              "  </thead>\n",
              "  <tbody>\n",
              "    <tr>\n",
              "      <th id=\"T_8a60d_level0_row0\" class=\"row_heading level0 row0\" >count</th>\n",
              "      <td id=\"T_8a60d_row0_col0\" class=\"data row0 col0\" >438666.000000</td>\n",
              "      <td id=\"T_8a60d_row0_col1\" class=\"data row0 col1\" >438666.000000</td>\n",
              "      <td id=\"T_8a60d_row0_col2\" class=\"data row0 col2\" >438666.000000</td>\n",
              "      <td id=\"T_8a60d_row0_col3\" class=\"data row0 col3\" >438666.000000</td>\n",
              "      <td id=\"T_8a60d_row0_col4\" class=\"data row0 col4\" >438665.000000</td>\n",
              "      <td id=\"T_8a60d_row0_col5\" class=\"data row0 col5\" >438665.000000</td>\n",
              "      <td id=\"T_8a60d_row0_col6\" class=\"data row0 col6\" >438665.000000</td>\n",
              "      <td id=\"T_8a60d_row0_col7\" class=\"data row0 col7\" >438665.000000</td>\n",
              "      <td id=\"T_8a60d_row0_col8\" class=\"data row0 col8\" >438665.000000</td>\n",
              "      <td id=\"T_8a60d_row0_col9\" class=\"data row0 col9\" >438665.000000</td>\n",
              "      <td id=\"T_8a60d_row0_col10\" class=\"data row0 col10\" >438665.000000</td>\n",
              "      <td id=\"T_8a60d_row0_col11\" class=\"data row0 col11\" >438665.000000</td>\n",
              "      <td id=\"T_8a60d_row0_col12\" class=\"data row0 col12\" >438665.000000</td>\n",
              "      <td id=\"T_8a60d_row0_col13\" class=\"data row0 col13\" >438665.000000</td>\n",
              "      <td id=\"T_8a60d_row0_col14\" class=\"data row0 col14\" >438665.000000</td>\n",
              "      <td id=\"T_8a60d_row0_col15\" class=\"data row0 col15\" >438665.000000</td>\n",
              "      <td id=\"T_8a60d_row0_col16\" class=\"data row0 col16\" >438665.000000</td>\n",
              "      <td id=\"T_8a60d_row0_col17\" class=\"data row0 col17\" >438665.000000</td>\n",
              "      <td id=\"T_8a60d_row0_col18\" class=\"data row0 col18\" >438665.000000</td>\n",
              "      <td id=\"T_8a60d_row0_col19\" class=\"data row0 col19\" >438665.000000</td>\n",
              "      <td id=\"T_8a60d_row0_col20\" class=\"data row0 col20\" >438665.000000</td>\n",
              "      <td id=\"T_8a60d_row0_col21\" class=\"data row0 col21\" >438665.000000</td>\n",
              "      <td id=\"T_8a60d_row0_col22\" class=\"data row0 col22\" >438665.000000</td>\n",
              "      <td id=\"T_8a60d_row0_col23\" class=\"data row0 col23\" >438665.000000</td>\n",
              "      <td id=\"T_8a60d_row0_col24\" class=\"data row0 col24\" >438665.000000</td>\n",
              "      <td id=\"T_8a60d_row0_col25\" class=\"data row0 col25\" >438665.000000</td>\n",
              "      <td id=\"T_8a60d_row0_col26\" class=\"data row0 col26\" >438665.000000</td>\n",
              "      <td id=\"T_8a60d_row0_col27\" class=\"data row0 col27\" >438665.000000</td>\n",
              "      <td id=\"T_8a60d_row0_col28\" class=\"data row0 col28\" >438665.000000</td>\n",
              "      <td id=\"T_8a60d_row0_col29\" class=\"data row0 col29\" >438665.000000</td>\n",
              "      <td id=\"T_8a60d_row0_col30\" class=\"data row0 col30\" >438665.000000</td>\n",
              "    </tr>\n",
              "    <tr>\n",
              "      <th id=\"T_8a60d_level0_row1\" class=\"row_heading level0 row1\" >mean</th>\n",
              "      <td id=\"T_8a60d_row1_col0\" class=\"data row1 col0\" >2021.000000</td>\n",
              "      <td id=\"T_8a60d_row1_col1\" class=\"data row1 col1\" >202101.000000</td>\n",
              "      <td id=\"T_8a60d_row1_col2\" class=\"data row1 col2\" >98844.701584</td>\n",
              "      <td id=\"T_8a60d_row1_col3\" class=\"data row1 col3\" >2020996517875.833984</td>\n",
              "      <td id=\"T_8a60d_row1_col4\" class=\"data row1 col4\" >97.625849</td>\n",
              "      <td id=\"T_8a60d_row1_col5\" class=\"data row1 col5\" >2021000988446.024414</td>\n",
              "      <td id=\"T_8a60d_row1_col6\" class=\"data row1 col6\" >378802.059227</td>\n",
              "      <td id=\"T_8a60d_row1_col7\" class=\"data row1 col7\" >1.148077</td>\n",
              "      <td id=\"T_8a60d_row1_col8\" class=\"data row1 col8\" >2.173770</td>\n",
              "      <td id=\"T_8a60d_row1_col9\" class=\"data row1 col9\" >100.874323</td>\n",
              "      <td id=\"T_8a60d_row1_col10\" class=\"data row1 col10\" >1.505698</td>\n",
              "      <td id=\"T_8a60d_row1_col11\" class=\"data row1 col11\" >42.023316</td>\n",
              "      <td id=\"T_8a60d_row1_col12\" class=\"data row1 col12\" >3.713948</td>\n",
              "      <td id=\"T_8a60d_row1_col13\" class=\"data row1 col13\" >1978.976684</td>\n",
              "      <td id=\"T_8a60d_row1_col14\" class=\"data row1 col14\" >0.728638</td>\n",
              "      <td id=\"T_8a60d_row1_col15\" class=\"data row1 col15\" >0.566058</td>\n",
              "      <td id=\"T_8a60d_row1_col16\" class=\"data row1 col16\" >0.566683</td>\n",
              "      <td id=\"T_8a60d_row1_col17\" class=\"data row1 col17\" >1.199932</td>\n",
              "      <td id=\"T_8a60d_row1_col18\" class=\"data row1 col18\" >6.226248</td>\n",
              "      <td id=\"T_8a60d_row1_col19\" class=\"data row1 col19\" >64.673393</td>\n",
              "      <td id=\"T_8a60d_row1_col20\" class=\"data row1 col20\" >11.281930</td>\n",
              "      <td id=\"T_8a60d_row1_col21\" class=\"data row1 col21\" >1129.589543</td>\n",
              "      <td id=\"T_8a60d_row1_col22\" class=\"data row1 col22\" >1.138792</td>\n",
              "      <td id=\"T_8a60d_row1_col23\" class=\"data row1 col23\" >114.047952</td>\n",
              "      <td id=\"T_8a60d_row1_col24\" class=\"data row1 col24\" >1.583760</td>\n",
              "      <td id=\"T_8a60d_row1_col25\" class=\"data row1 col25\" >15.877727</td>\n",
              "      <td id=\"T_8a60d_row1_col26\" class=\"data row1 col26\" >6570.088781</td>\n",
              "      <td id=\"T_8a60d_row1_col27\" class=\"data row1 col27\" >3722.867450</td>\n",
              "      <td id=\"T_8a60d_row1_col28\" class=\"data row1 col28\" >21.604495</td>\n",
              "      <td id=\"T_8a60d_row1_col29\" class=\"data row1 col29\" >694552.676872</td>\n",
              "      <td id=\"T_8a60d_row1_col30\" class=\"data row1 col30\" >195088.402198</td>\n",
              "    </tr>\n",
              "    <tr>\n",
              "      <th id=\"T_8a60d_level0_row2\" class=\"row_heading level0 row2\" >std</th>\n",
              "      <td id=\"T_8a60d_row2_col0\" class=\"data row2 col0\" >0.000000</td>\n",
              "      <td id=\"T_8a60d_row2_col1\" class=\"data row2 col1\" >0.000000</td>\n",
              "      <td id=\"T_8a60d_row2_col2\" class=\"data row2 col2\" >54100.192938</td>\n",
              "      <td id=\"T_8a60d_row2_col3\" class=\"data row2 col3\" >3051373300.137540</td>\n",
              "      <td id=\"T_8a60d_row2_col4\" class=\"data row2 col4\" >78.732127</td>\n",
              "      <td id=\"T_8a60d_row2_col5\" class=\"data row2 col5\" >541000.938130</td>\n",
              "      <td id=\"T_8a60d_row2_col6\" class=\"data row2 col6\" >316217.332307</td>\n",
              "      <td id=\"T_8a60d_row2_col7\" class=\"data row2 col7\" >0.599769</td>\n",
              "      <td id=\"T_8a60d_row2_col8\" class=\"data row2 col8\" >1.452446</td>\n",
              "      <td id=\"T_8a60d_row2_col9\" class=\"data row2 col9\" >82.121108</td>\n",
              "      <td id=\"T_8a60d_row2_col10\" class=\"data row2 col10\" >0.499968</td>\n",
              "      <td id=\"T_8a60d_row2_col11\" class=\"data row2 col11\" >23.643354</td>\n",
              "      <td id=\"T_8a60d_row2_col12\" class=\"data row2 col12\" >2.301207</td>\n",
              "      <td id=\"T_8a60d_row2_col13\" class=\"data row2 col13\" >23.643354</td>\n",
              "      <td id=\"T_8a60d_row2_col14\" class=\"data row2 col14\" >0.771796</td>\n",
              "      <td id=\"T_8a60d_row2_col15\" class=\"data row2 col15\" >0.506055</td>\n",
              "      <td id=\"T_8a60d_row2_col16\" class=\"data row2 col16\" >0.507206</td>\n",
              "      <td id=\"T_8a60d_row2_col17\" class=\"data row2 col17\" >0.460731</td>\n",
              "      <td id=\"T_8a60d_row2_col18\" class=\"data row2 col18\" >3.319526</td>\n",
              "      <td id=\"T_8a60d_row2_col19\" class=\"data row2 col19\" >33.038127</td>\n",
              "      <td id=\"T_8a60d_row2_col20\" class=\"data row2 col20\" >20.896005</td>\n",
              "      <td id=\"T_8a60d_row2_col21\" class=\"data row2 col21\" >2091.731540</td>\n",
              "      <td id=\"T_8a60d_row2_col22\" class=\"data row2 col22\" >7.437090</td>\n",
              "      <td id=\"T_8a60d_row2_col23\" class=\"data row2 col23\" >744.691227</td>\n",
              "      <td id=\"T_8a60d_row2_col24\" class=\"data row2 col24\" >1.137499</td>\n",
              "      <td id=\"T_8a60d_row2_col25\" class=\"data row2 col25\" >11.359478</td>\n",
              "      <td id=\"T_8a60d_row2_col26\" class=\"data row2 col26\" >3509.028486</td>\n",
              "      <td id=\"T_8a60d_row2_col27\" class=\"data row2 col27\" >3747.726583</td>\n",
              "      <td id=\"T_8a60d_row2_col28\" class=\"data row2 col28\" >24.596056</td>\n",
              "      <td id=\"T_8a60d_row2_col29\" class=\"data row2 col29\" >2328276.360794</td>\n",
              "      <td id=\"T_8a60d_row2_col30\" class=\"data row2 col30\" >365590.015772</td>\n",
              "    </tr>\n",
              "    <tr>\n",
              "      <th id=\"T_8a60d_level0_row3\" class=\"row_heading level0 row3\" >min</th>\n",
              "      <td id=\"T_8a60d_row3_col0\" class=\"data row3 col0\" >2021.000000</td>\n",
              "      <td id=\"T_8a60d_row3_col1\" class=\"data row3 col1\" >202101.000000</td>\n",
              "      <td id=\"T_8a60d_row3_col2\" class=\"data row3 col2\" >1.000000</td>\n",
              "      <td id=\"T_8a60d_row3_col3\" class=\"data row3 col3\" >20210010.000000</td>\n",
              "      <td id=\"T_8a60d_row3_col4\" class=\"data row3 col4\" >1.000000</td>\n",
              "      <td id=\"T_8a60d_row3_col5\" class=\"data row3 col5\" >2021000000011.000000</td>\n",
              "      <td id=\"T_8a60d_row3_col6\" class=\"data row3 col6\" >10001.000000</td>\n",
              "      <td id=\"T_8a60d_row3_col7\" class=\"data row3 col7\" >1.000000</td>\n",
              "      <td id=\"T_8a60d_row3_col8\" class=\"data row3 col8\" >1.000000</td>\n",
              "      <td id=\"T_8a60d_row3_col9\" class=\"data row3 col9\" >1.000000</td>\n",
              "      <td id=\"T_8a60d_row3_col10\" class=\"data row3 col10\" >1.000000</td>\n",
              "      <td id=\"T_8a60d_row3_col11\" class=\"data row3 col11\" >0.000000</td>\n",
              "      <td id=\"T_8a60d_row3_col12\" class=\"data row3 col12\" >1.000000</td>\n",
              "      <td id=\"T_8a60d_row3_col13\" class=\"data row3 col13\" >1927.000000</td>\n",
              "      <td id=\"T_8a60d_row3_col14\" class=\"data row3 col14\" >0.000000</td>\n",
              "      <td id=\"T_8a60d_row3_col15\" class=\"data row3 col15\" >0.000000</td>\n",
              "      <td id=\"T_8a60d_row3_col16\" class=\"data row3 col16\" >0.000000</td>\n",
              "      <td id=\"T_8a60d_row3_col17\" class=\"data row3 col17\" >0.000000</td>\n",
              "      <td id=\"T_8a60d_row3_col18\" class=\"data row3 col18\" >0.000000</td>\n",
              "      <td id=\"T_8a60d_row3_col19\" class=\"data row3 col19\" >1.000000</td>\n",
              "      <td id=\"T_8a60d_row3_col20\" class=\"data row3 col20\" >0.000000</td>\n",
              "      <td id=\"T_8a60d_row3_col21\" class=\"data row3 col21\" >0.000000</td>\n",
              "      <td id=\"T_8a60d_row3_col22\" class=\"data row3 col22\" >0.000000</td>\n",
              "      <td id=\"T_8a60d_row3_col23\" class=\"data row3 col23\" >0.000000</td>\n",
              "      <td id=\"T_8a60d_row3_col24\" class=\"data row3 col24\" >0.000000</td>\n",
              "      <td id=\"T_8a60d_row3_col25\" class=\"data row3 col25\" >0.000000</td>\n",
              "      <td id=\"T_8a60d_row3_col26\" class=\"data row3 col26\" >10.000000</td>\n",
              "      <td id=\"T_8a60d_row3_col27\" class=\"data row3 col27\" >0.000000</td>\n",
              "      <td id=\"T_8a60d_row3_col28\" class=\"data row3 col28\" >0.000000</td>\n",
              "      <td id=\"T_8a60d_row3_col29\" class=\"data row3 col29\" >-6800.000000</td>\n",
              "      <td id=\"T_8a60d_row3_col30\" class=\"data row3 col30\" >0.000000</td>\n",
              "    </tr>\n",
              "    <tr>\n",
              "      <th id=\"T_8a60d_level0_row4\" class=\"row_heading level0 row4\" >25%</th>\n",
              "      <td id=\"T_8a60d_row4_col0\" class=\"data row4 col0\" >2021.000000</td>\n",
              "      <td id=\"T_8a60d_row4_col1\" class=\"data row4 col1\" >202101.000000</td>\n",
              "      <td id=\"T_8a60d_row4_col2\" class=\"data row4 col2\" >50172.250000</td>\n",
              "      <td id=\"T_8a60d_row4_col3\" class=\"data row4 col3\" >2021000300395.250000</td>\n",
              "      <td id=\"T_8a60d_row4_col4\" class=\"data row4 col4\" >51.000000</td>\n",
              "      <td id=\"T_8a60d_row4_col5\" class=\"data row4 col5\" >2021000501721.000000</td>\n",
              "      <td id=\"T_8a60d_row4_col6\" class=\"data row4 col6\" >70004.000000</td>\n",
              "      <td id=\"T_8a60d_row4_col7\" class=\"data row4 col7\" >1.000000</td>\n",
              "      <td id=\"T_8a60d_row4_col8\" class=\"data row4 col8\" >1.000000</td>\n",
              "      <td id=\"T_8a60d_row4_col9\" class=\"data row4 col9\" >52.000000</td>\n",
              "      <td id=\"T_8a60d_row4_col10\" class=\"data row4 col10\" >1.000000</td>\n",
              "      <td id=\"T_8a60d_row4_col11\" class=\"data row4 col11\" >22.000000</td>\n",
              "      <td id=\"T_8a60d_row4_col12\" class=\"data row4 col12\" >1.000000</td>\n",
              "      <td id=\"T_8a60d_row4_col13\" class=\"data row4 col13\" >1959.000000</td>\n",
              "      <td id=\"T_8a60d_row4_col14\" class=\"data row4 col14\" >0.000000</td>\n",
              "      <td id=\"T_8a60d_row4_col15\" class=\"data row4 col15\" >0.000000</td>\n",
              "      <td id=\"T_8a60d_row4_col16\" class=\"data row4 col16\" >0.000000</td>\n",
              "      <td id=\"T_8a60d_row4_col17\" class=\"data row4 col17\" >1.000000</td>\n",
              "      <td id=\"T_8a60d_row4_col18\" class=\"data row4 col18\" >5.000000</td>\n",
              "      <td id=\"T_8a60d_row4_col19\" class=\"data row4 col19\" >50.000000</td>\n",
              "      <td id=\"T_8a60d_row4_col20\" class=\"data row4 col20\" >0.000000</td>\n",
              "      <td id=\"T_8a60d_row4_col21\" class=\"data row4 col21\" >0.000000</td>\n",
              "      <td id=\"T_8a60d_row4_col22\" class=\"data row4 col22\" >0.000000</td>\n",
              "      <td id=\"T_8a60d_row4_col23\" class=\"data row4 col23\" >0.000000</td>\n",
              "      <td id=\"T_8a60d_row4_col24\" class=\"data row4 col24\" >1.000000</td>\n",
              "      <td id=\"T_8a60d_row4_col25\" class=\"data row4 col25\" >10.000000</td>\n",
              "      <td id=\"T_8a60d_row4_col26\" class=\"data row4 col26\" >3820.000000</td>\n",
              "      <td id=\"T_8a60d_row4_col27\" class=\"data row4 col27\" >0.000000</td>\n",
              "      <td id=\"T_8a60d_row4_col28\" class=\"data row4 col28\" >0.000000</td>\n",
              "      <td id=\"T_8a60d_row4_col29\" class=\"data row4 col29\" >41000.000000</td>\n",
              "      <td id=\"T_8a60d_row4_col30\" class=\"data row4 col30\" >0.000000</td>\n",
              "    </tr>\n",
              "    <tr>\n",
              "      <th id=\"T_8a60d_level0_row5\" class=\"row_heading level0 row5\" >50%</th>\n",
              "      <td id=\"T_8a60d_row5_col0\" class=\"data row5 col0\" >2021.000000</td>\n",
              "      <td id=\"T_8a60d_row5_col1\" class=\"data row5 col1\" >202101.000000</td>\n",
              "      <td id=\"T_8a60d_row5_col2\" class=\"data row5 col2\" >104849.500000</td>\n",
              "      <td id=\"T_8a60d_row5_col3\" class=\"data row5 col3\" >2021000599900.500000</td>\n",
              "      <td id=\"T_8a60d_row5_col4\" class=\"data row5 col4\" >73.000000</td>\n",
              "      <td id=\"T_8a60d_row5_col5\" class=\"data row5 col5\" >2021001048491.000000</td>\n",
              "      <td id=\"T_8a60d_row5_col6\" class=\"data row5 col6\" >371506.000000</td>\n",
              "      <td id=\"T_8a60d_row5_col7\" class=\"data row5 col7\" >1.000000</td>\n",
              "      <td id=\"T_8a60d_row5_col8\" class=\"data row5 col8\" >2.000000</td>\n",
              "      <td id=\"T_8a60d_row5_col9\" class=\"data row5 col9\" >75.000000</td>\n",
              "      <td id=\"T_8a60d_row5_col10\" class=\"data row5 col10\" >2.000000</td>\n",
              "      <td id=\"T_8a60d_row5_col11\" class=\"data row5 col11\" >42.000000</td>\n",
              "      <td id=\"T_8a60d_row5_col12\" class=\"data row5 col12\" >4.000000</td>\n",
              "      <td id=\"T_8a60d_row5_col13\" class=\"data row5 col13\" >1979.000000</td>\n",
              "      <td id=\"T_8a60d_row5_col14\" class=\"data row5 col14\" >1.000000</td>\n",
              "      <td id=\"T_8a60d_row5_col15\" class=\"data row5 col15\" >1.000000</td>\n",
              "      <td id=\"T_8a60d_row5_col16\" class=\"data row5 col16\" >1.000000</td>\n",
              "      <td id=\"T_8a60d_row5_col17\" class=\"data row5 col17\" >1.000000</td>\n",
              "      <td id=\"T_8a60d_row5_col18\" class=\"data row5 col18\" >6.000000</td>\n",
              "      <td id=\"T_8a60d_row5_col19\" class=\"data row5 col19\" >65.000000</td>\n",
              "      <td id=\"T_8a60d_row5_col20\" class=\"data row5 col20\" >0.000000</td>\n",
              "      <td id=\"T_8a60d_row5_col21\" class=\"data row5 col21\" >0.000000</td>\n",
              "      <td id=\"T_8a60d_row5_col22\" class=\"data row5 col22\" >0.000000</td>\n",
              "      <td id=\"T_8a60d_row5_col23\" class=\"data row5 col23\" >0.000000</td>\n",
              "      <td id=\"T_8a60d_row5_col24\" class=\"data row5 col24\" >1.000000</td>\n",
              "      <td id=\"T_8a60d_row5_col25\" class=\"data row5 col25\" >10.000000</td>\n",
              "      <td id=\"T_8a60d_row5_col26\" class=\"data row5 col26\" >7340.000000</td>\n",
              "      <td id=\"T_8a60d_row5_col27\" class=\"data row5 col27\" >3291.000000</td>\n",
              "      <td id=\"T_8a60d_row5_col28\" class=\"data row5 col28\" >0.000000</td>\n",
              "      <td id=\"T_8a60d_row5_col29\" class=\"data row5 col29\" >85300.000000</td>\n",
              "      <td id=\"T_8a60d_row5_col30\" class=\"data row5 col30\" >20000.000000</td>\n",
              "    </tr>\n",
              "    <tr>\n",
              "      <th id=\"T_8a60d_level0_row6\" class=\"row_heading level0 row6\" >75%</th>\n",
              "      <td id=\"T_8a60d_row6_col0\" class=\"data row6 col0\" >2021.000000</td>\n",
              "      <td id=\"T_8a60d_row6_col1\" class=\"data row6 col1\" >202101.000000</td>\n",
              "      <td id=\"T_8a60d_row6_col2\" class=\"data row6 col2\" >145638.750000</td>\n",
              "      <td id=\"T_8a60d_row6_col3\" class=\"data row6 col3\" >2021000896807.000000</td>\n",
              "      <td id=\"T_8a60d_row6_col4\" class=\"data row6 col4\" >119.000000</td>\n",
              "      <td id=\"T_8a60d_row6_col5\" class=\"data row6 col5\" >2021001456381.000000</td>\n",
              "      <td id=\"T_8a60d_row6_col6\" class=\"data row6 col6\" >651506.000000</td>\n",
              "      <td id=\"T_8a60d_row6_col7\" class=\"data row6 col7\" >1.000000</td>\n",
              "      <td id=\"T_8a60d_row6_col8\" class=\"data row6 col8\" >3.000000</td>\n",
              "      <td id=\"T_8a60d_row6_col9\" class=\"data row6 col9\" >124.000000</td>\n",
              "      <td id=\"T_8a60d_row6_col10\" class=\"data row6 col10\" >2.000000</td>\n",
              "      <td id=\"T_8a60d_row6_col11\" class=\"data row6 col11\" >62.000000</td>\n",
              "      <td id=\"T_8a60d_row6_col12\" class=\"data row6 col12\" >6.000000</td>\n",
              "      <td id=\"T_8a60d_row6_col13\" class=\"data row6 col13\" >1999.000000</td>\n",
              "      <td id=\"T_8a60d_row6_col14\" class=\"data row6 col14\" >1.000000</td>\n",
              "      <td id=\"T_8a60d_row6_col15\" class=\"data row6 col15\" >1.000000</td>\n",
              "      <td id=\"T_8a60d_row6_col16\" class=\"data row6 col16\" >1.000000</td>\n",
              "      <td id=\"T_8a60d_row6_col17\" class=\"data row6 col17\" >1.000000</td>\n",
              "      <td id=\"T_8a60d_row6_col18\" class=\"data row6 col18\" >10.000000</td>\n",
              "      <td id=\"T_8a60d_row6_col19\" class=\"data row6 col19\" >101.000000</td>\n",
              "      <td id=\"T_8a60d_row6_col20\" class=\"data row6 col20\" >19.000000</td>\n",
              "      <td id=\"T_8a60d_row6_col21\" class=\"data row6 col21\" >1901.000000</td>\n",
              "      <td id=\"T_8a60d_row6_col22\" class=\"data row6 col22\" >0.000000</td>\n",
              "      <td id=\"T_8a60d_row6_col23\" class=\"data row6 col23\" >0.000000</td>\n",
              "      <td id=\"T_8a60d_row6_col24\" class=\"data row6 col24\" >3.000000</td>\n",
              "      <td id=\"T_8a60d_row6_col25\" class=\"data row6 col25\" >30.000000</td>\n",
              "      <td id=\"T_8a60d_row6_col26\" class=\"data row6 col26\" >9920.000000</td>\n",
              "      <td id=\"T_8a60d_row6_col27\" class=\"data row6 col27\" >7770.000000</td>\n",
              "      <td id=\"T_8a60d_row6_col28\" class=\"data row6 col28\" >52.000000</td>\n",
              "      <td id=\"T_8a60d_row6_col29\" class=\"data row6 col29\" >161400.000000</td>\n",
              "      <td id=\"T_8a60d_row6_col30\" class=\"data row6 col30\" >95000.000000</td>\n",
              "    </tr>\n",
              "    <tr>\n",
              "      <th id=\"T_8a60d_level0_row7\" class=\"row_heading level0 row7\" >max</th>\n",
              "      <td id=\"T_8a60d_row7_col0\" class=\"data row7 col0\" >2021.000000</td>\n",
              "      <td id=\"T_8a60d_row7_col1\" class=\"data row7 col1\" >202101.000000</td>\n",
              "      <td id=\"T_8a60d_row7_col2\" class=\"data row7 col2\" >186204.000000</td>\n",
              "      <td id=\"T_8a60d_row7_col3\" class=\"data row7 col3\" >2021010160574.000000</td>\n",
              "      <td id=\"T_8a60d_row7_col4\" class=\"data row7 col4\" >1616.000000</td>\n",
              "      <td id=\"T_8a60d_row7_col5\" class=\"data row7 col5\" >2021001862031.000000</td>\n",
              "      <td id=\"T_8a60d_row7_col6\" class=\"data row7 col6\" >1130006.000000</td>\n",
              "      <td id=\"T_8a60d_row7_col7\" class=\"data row7 col7\" >5.000000</td>\n",
              "      <td id=\"T_8a60d_row7_col8\" class=\"data row7 col8\" >20.000000</td>\n",
              "      <td id=\"T_8a60d_row7_col9\" class=\"data row7 col9\" >1617.000000</td>\n",
              "      <td id=\"T_8a60d_row7_col10\" class=\"data row7 col10\" >2.000000</td>\n",
              "      <td id=\"T_8a60d_row7_col11\" class=\"data row7 col11\" >94.000000</td>\n",
              "      <td id=\"T_8a60d_row7_col12\" class=\"data row7 col12\" >6.000000</td>\n",
              "      <td id=\"T_8a60d_row7_col13\" class=\"data row7 col13\" >2021.000000</td>\n",
              "      <td id=\"T_8a60d_row7_col14\" class=\"data row7 col14\" >3.000000</td>\n",
              "      <td id=\"T_8a60d_row7_col15\" class=\"data row7 col15\" >2.000000</td>\n",
              "      <td id=\"T_8a60d_row7_col16\" class=\"data row7 col16\" >2.000000</td>\n",
              "      <td id=\"T_8a60d_row7_col17\" class=\"data row7 col17\" >2.000000</td>\n",
              "      <td id=\"T_8a60d_row7_col18\" class=\"data row7 col18\" >11.000000</td>\n",
              "      <td id=\"T_8a60d_row7_col19\" class=\"data row7 col19\" >116.000000</td>\n",
              "      <td id=\"T_8a60d_row7_col20\" class=\"data row7 col20\" >64.000000</td>\n",
              "      <td id=\"T_8a60d_row7_col21\" class=\"data row7 col21\" >6403.000000</td>\n",
              "      <td id=\"T_8a60d_row7_col22\" class=\"data row7 col22\" >64.000000</td>\n",
              "      <td id=\"T_8a60d_row7_col23\" class=\"data row7 col23\" >6403.000000</td>\n",
              "      <td id=\"T_8a60d_row7_col24\" class=\"data row7 col24\" >3.000000</td>\n",
              "      <td id=\"T_8a60d_row7_col25\" class=\"data row7 col25\" >30.000000</td>\n",
              "      <td id=\"T_8a60d_row7_col26\" class=\"data row7 col26\" >9920.000000</td>\n",
              "      <td id=\"T_8a60d_row7_col27\" class=\"data row7 col27\" >9920.000000</td>\n",
              "      <td id=\"T_8a60d_row7_col28\" class=\"data row7 col28\" >52.000000</td>\n",
              "      <td id=\"T_8a60d_row7_col29\" class=\"data row7 col29\" >9999999.000000</td>\n",
              "      <td id=\"T_8a60d_row7_col30\" class=\"data row7 col30\" >999999.000000</td>\n",
              "    </tr>\n",
              "  </tbody>\n",
              "</table>\n"
            ]
          },
          "metadata": {},
          "execution_count": 6
        }
      ]
    },
    {
      "cell_type": "code",
      "source": [
        "df[\"FTOTINC\"].value_counts()"
      ],
      "metadata": {
        "colab": {
          "base_uri": "https://localhost:8080/"
        },
        "id": "Mr3ptVyByQRc",
        "outputId": "c53b7bb8-adf5-44dc-825b-edf8bcd69409"
      },
      "execution_count": 7,
      "outputs": [
        {
          "output_type": "execute_result",
          "data": {
            "text/plain": [
              "9999999.0    25777\n",
              "0.0           7322\n",
              "30000.0       3617\n",
              "50000.0       3614\n",
              "60000.0       3460\n",
              "             ...  \n",
              "68290.0          1\n",
              "25960.0          1\n",
              "140960.0         1\n",
              "13060.0          1\n",
              "79550.0          1\n",
              "Name: FTOTINC, Length: 13311, dtype: int64"
            ]
          },
          "metadata": {},
          "execution_count": 7
        }
      ]
    },
    {
      "cell_type": "code",
      "source": [
        "df[\"INCWAGE\"].value_counts()"
      ],
      "metadata": {
        "colab": {
          "base_uri": "https://localhost:8080/"
        },
        "id": "mDe-4SF3zMUU",
        "outputId": "679a799c-dd44-40dd-aa85-abce36737774"
      },
      "execution_count": 8,
      "outputs": [
        {
          "output_type": "execute_result",
          "data": {
            "text/plain": [
              "0.0         165669\n",
              "999999.0     73360\n",
              "30000.0       6411\n",
              "50000.0       5784\n",
              "40000.0       5709\n",
              "             ...  \n",
              "297000.0         1\n",
              "374000.0         1\n",
              "353000.0         1\n",
              "393000.0         1\n",
              "352000.0         1\n",
              "Name: INCWAGE, Length: 937, dtype: int64"
            ]
          },
          "metadata": {},
          "execution_count": 8
        }
      ]
    },
    {
      "cell_type": "code",
      "source": [
        "df_nan = df.copy()\n",
        "df_nan[\"FTOTINC\"] = df[\"FTOTINC\"].replace(9999999, np.nan)\n",
        "df_nan[\"INCWAGE\"] = df[\"INCWAGE\"].replace(999999, np.nan)\n",
        "\n",
        "df_nan.max()"
      ],
      "metadata": {
        "colab": {
          "base_uri": "https://localhost:8080/"
        },
        "id": "pKbV5mt03ePA",
        "outputId": "e4c93a4f-0db2-4d3a-96d7-29774f1f2653"
      },
      "execution_count": 9,
      "outputs": [
        {
          "output_type": "stream",
          "name": "stderr",
          "text": [
            "<ipython-input-9-26f5ad44bca3>:5: FutureWarning: The default value of numeric_only in DataFrame.max is deprecated. In a future version, it will default to False. In addition, specifying 'numeric_only=None' is deprecated. Select only valid columns or specify the value of numeric_only to silence this warning.\n",
            "  df_nan.max()\n"
          ]
        },
        {
          "output_type": "execute_result",
          "data": {
            "text/plain": [
              "YEAR          2.021000e+03\n",
              "SAMPLE        2.021010e+05\n",
              "SERIAL        1.862040e+05\n",
              "CBSERIAL      2.021010e+12\n",
              "HHWT          1.616000e+03\n",
              "CLUSTER       2.021002e+12\n",
              "STRATA        1.130006e+06\n",
              "GQ            5.000000e+00\n",
              "PERNUM        2.000000e+01\n",
              "PERWT         1.617000e+03\n",
              "SEX           2.000000e+00\n",
              "AGE           9.400000e+01\n",
              "MARST         6.000000e+00\n",
              "BIRTHYR       2.021000e+03\n",
              "MARRNO        3.000000e+00\n",
              "DIVINYR       2.000000e+00\n",
              "WIDINYR       2.000000e+00\n",
              "SCHOOL        2.000000e+00\n",
              "EDUC          1.100000e+01\n",
              "EDUCD         1.160000e+02\n",
              "DEGFIELD      6.400000e+01\n",
              "DEGFIELDD     6.403000e+03\n",
              "DEGFIELD2     6.400000e+01\n",
              "DEGFIELD2D    6.403000e+03\n",
              "EMPSTAT       3.000000e+00\n",
              "EMPSTATD      3.000000e+01\n",
              "OCC2010       9.920000e+03\n",
              "IND           9.920000e+03\n",
              "WKSWORK1      5.200000e+01\n",
              "FTOTINC       2.508000e+06\n",
              "INCWAGE       6.270000e+05\n",
              "dtype: float64"
            ]
          },
          "metadata": {},
          "execution_count": 9
        }
      ]
    },
    {
      "cell_type": "markdown",
      "source": [
        "### Imputation of missing data \n",
        "There are several techniques we may impute the missing data, and we will examine the bias-variance tradeoff using the [MLxtend](http://rasbt.github.io/mlxtend/) Library. \n",
        "\n",
        "\n",
        "*   Substitution by mean\n",
        "*   Substitution by median\n",
        "*   Model Imputation\n",
        "*   Maximum Likelihood Imputation\n",
        "*   Multiple Imputation \n",
        "\n",
        "\n"
      ],
      "metadata": {
        "id": "mqE_RgYG7ttg"
      }
    },
    {
      "cell_type": "markdown",
      "source": [
        "#### Substitution by mean \n",
        "I am treating the NaN data as the target variable and doing simple imputation. "
      ],
      "metadata": {
        "id": "trBvS9e4_cMp"
      }
    },
    {
      "cell_type": "code",
      "source": [
        "df_nan.isnull().sum()"
      ],
      "metadata": {
        "id": "mBynZ9d0eUFV",
        "outputId": "921ced5b-5b31-4cc3-ac20-c106a23ce9e8",
        "colab": {
          "base_uri": "https://localhost:8080/"
        }
      },
      "execution_count": 10,
      "outputs": [
        {
          "output_type": "execute_result",
          "data": {
            "text/plain": [
              "YEAR              0\n",
              "SAMPLE            0\n",
              "SERIAL            0\n",
              "CBSERIAL          0\n",
              "HHWT              1\n",
              "CLUSTER           1\n",
              "STRATA            1\n",
              "GQ                1\n",
              "PERNUM            1\n",
              "PERWT             1\n",
              "SEX               1\n",
              "AGE               1\n",
              "MARST             1\n",
              "BIRTHYR           1\n",
              "MARRNO            1\n",
              "DIVINYR           1\n",
              "WIDINYR           1\n",
              "SCHOOL            1\n",
              "EDUC              1\n",
              "EDUCD             1\n",
              "DEGFIELD          1\n",
              "DEGFIELDD         1\n",
              "DEGFIELD2         1\n",
              "DEGFIELD2D        1\n",
              "EMPSTAT           1\n",
              "EMPSTATD          1\n",
              "OCC2010           1\n",
              "IND               1\n",
              "INDNAICS          1\n",
              "WKSWORK1          1\n",
              "FTOTINC       25778\n",
              "INCWAGE       73361\n",
              "dtype: int64"
            ]
          },
          "metadata": {},
          "execution_count": 10
        }
      ]
    },
    {
      "cell_type": "code",
      "source": [
        "from sklearn.impute import SimpleImputer\n",
        "train_mean = df_nan[['BIRTHYR','FTOTINC','INCWAGE']].copy()\n",
        "mean_imputer = SimpleImputer(strategy='mean')\n",
        "train_mean.iloc[:,:] = mean_imputer.fit_transform(train_mean)\n",
        "train_mean.isnull().sum()\n",
        "df_mean = df_nan.fillna(train_mean)\n",
        "df_mean.isnull().sum()"
      ],
      "metadata": {
        "colab": {
          "base_uri": "https://localhost:8080/"
        },
        "id": "oFFJyp9f5T-z",
        "outputId": "c13770f9-89e4-4381-dbec-4b23ba16c1f0"
      },
      "execution_count": 11,
      "outputs": [
        {
          "output_type": "execute_result",
          "data": {
            "text/plain": [
              "YEAR          0\n",
              "SAMPLE        0\n",
              "SERIAL        0\n",
              "CBSERIAL      0\n",
              "HHWT          1\n",
              "CLUSTER       1\n",
              "STRATA        1\n",
              "GQ            1\n",
              "PERNUM        1\n",
              "PERWT         1\n",
              "SEX           1\n",
              "AGE           1\n",
              "MARST         1\n",
              "BIRTHYR       0\n",
              "MARRNO        1\n",
              "DIVINYR       1\n",
              "WIDINYR       1\n",
              "SCHOOL        1\n",
              "EDUC          1\n",
              "EDUCD         1\n",
              "DEGFIELD      1\n",
              "DEGFIELDD     1\n",
              "DEGFIELD2     1\n",
              "DEGFIELD2D    1\n",
              "EMPSTAT       1\n",
              "EMPSTATD      1\n",
              "OCC2010       1\n",
              "IND           1\n",
              "INDNAICS      1\n",
              "WKSWORK1      1\n",
              "FTOTINC       0\n",
              "INCWAGE       0\n",
              "dtype: int64"
            ]
          },
          "metadata": {},
          "execution_count": 11
        }
      ]
    },
    {
      "cell_type": "markdown",
      "source": [
        "#### Substitution by median"
      ],
      "metadata": {
        "id": "f36eIFzh7b5e"
      }
    },
    {
      "cell_type": "code",
      "source": [
        "from sklearn.impute import SimpleImputer\n",
        "train_median = df_nan[['BIRTHYR','FTOTINC','INCWAGE']].copy()\n",
        "median_imputer = SimpleImputer(strategy='median')\n",
        "train_median.iloc[:,:] = median_imputer.fit_transform(train_median)\n",
        "train_median.isnull().sum()\n",
        "df_median = df_nan.fillna(train_median)\n",
        "df_median.isnull().sum()"
      ],
      "metadata": {
        "id": "jjqmXPqZ5UCd",
        "colab": {
          "base_uri": "https://localhost:8080/"
        },
        "outputId": "92d0c5dc-f499-4730-ec7d-7b997756dde1"
      },
      "execution_count": 12,
      "outputs": [
        {
          "output_type": "execute_result",
          "data": {
            "text/plain": [
              "YEAR          0\n",
              "SAMPLE        0\n",
              "SERIAL        0\n",
              "CBSERIAL      0\n",
              "HHWT          1\n",
              "CLUSTER       1\n",
              "STRATA        1\n",
              "GQ            1\n",
              "PERNUM        1\n",
              "PERWT         1\n",
              "SEX           1\n",
              "AGE           1\n",
              "MARST         1\n",
              "BIRTHYR       0\n",
              "MARRNO        1\n",
              "DIVINYR       1\n",
              "WIDINYR       1\n",
              "SCHOOL        1\n",
              "EDUC          1\n",
              "EDUCD         1\n",
              "DEGFIELD      1\n",
              "DEGFIELDD     1\n",
              "DEGFIELD2     1\n",
              "DEGFIELD2D    1\n",
              "EMPSTAT       1\n",
              "EMPSTATD      1\n",
              "OCC2010       1\n",
              "IND           1\n",
              "INDNAICS      1\n",
              "WKSWORK1      1\n",
              "FTOTINC       0\n",
              "INCWAGE       0\n",
              "dtype: int64"
            ]
          },
          "metadata": {},
          "execution_count": 12
        }
      ]
    },
    {
      "cell_type": "markdown",
      "source": [
        "#### Iterative Imputer"
      ],
      "metadata": {
        "id": "-J7zFFE57dfW"
      }
    },
    {
      "cell_type": "code",
      "source": [
        "from sklearn.model_selection import train_test_split\n",
        "from sklearn.linear_model import LogisticRegression\n",
        "from sklearn.experimental import enable_iterative_imputer\n",
        "from sklearn.impute import IterativeImputer\n",
        "\n",
        "itimp_FTOTINC = pd.DataFrame(np.array(df_nan['FTOTINC']).reshape(-1,1))\n",
        "imp_mean = IterativeImputer(random_state=0)\n",
        "imp_mean.fit_transform(itimp_FTOTINC)\n",
        "itimp_FTOTINC.isnull().sum()\n"
      ],
      "metadata": {
        "id": "j32QBRG27dnJ",
        "colab": {
          "base_uri": "https://localhost:8080/"
        },
        "outputId": "458524a1-082b-4b7c-b358-9426576d6c97"
      },
      "execution_count": 13,
      "outputs": [
        {
          "output_type": "execute_result",
          "data": {
            "text/plain": [
              "0    25778\n",
              "dtype: int64"
            ]
          },
          "metadata": {},
          "execution_count": 13
        }
      ]
    },
    {
      "cell_type": "code",
      "source": [
        "itimp_INCWAGE = pd.DataFrame(np.array(df_nan['INCWAGE']).reshape(-1,1))\n",
        "imp_mean.fit_transform(itimp_INCWAGE)\n",
        "itimp_INCWAGE.isnull().sum()"
      ],
      "metadata": {
        "colab": {
          "base_uri": "https://localhost:8080/"
        },
        "id": "q1gGXysvkFfS",
        "outputId": "e4ac1577-c0ef-4540-f53b-c0b86d2d9f1a"
      },
      "execution_count": 14,
      "outputs": [
        {
          "output_type": "execute_result",
          "data": {
            "text/plain": [
              "0    73361\n",
              "dtype: int64"
            ]
          },
          "metadata": {},
          "execution_count": 14
        }
      ]
    },
    {
      "cell_type": "markdown",
      "source": [
        "#### K-Nearest Neighbors Imputer \n",
        "\n",
        "\n"
      ],
      "metadata": {
        "id": "AV15qMjc7dtE"
      }
    },
    {
      "cell_type": "code",
      "source": [
        "from sklearn.impute import KNNImputer\n",
        "KNNImp_FTOTINC = pd.DataFrame(np.array(df_nan['FTOTINC']).reshape(-1,1))\n",
        "KNNImp_INCWAGE = pd.DataFrame(np.array(df_nan['INCWAGE']).reshape(-1,1))\n",
        "imputer = KNNImputer(n_neighbors=5)\n",
        "imputer.fit_transform(KNNImp_FTOTINC)\n",
        "imputer = KNNImputer(n_neighbors=5)\n",
        "imputer.fit_transform(KNNImp_INCWAGE)"
      ],
      "metadata": {
        "id": "totqQeAc7dzx",
        "colab": {
          "base_uri": "https://localhost:8080/"
        },
        "outputId": "123e637b-a62e-4d19-f1b5-896c86af6eb3"
      },
      "execution_count": 15,
      "outputs": [
        {
          "output_type": "execute_result",
          "data": {
            "text/plain": [
              "array([[    0.        ],\n",
              "       [    0.        ],\n",
              "       [    0.        ],\n",
              "       ...,\n",
              "       [    0.        ],\n",
              "       [20000.        ],\n",
              "       [33447.46803356]])"
            ]
          },
          "metadata": {},
          "execution_count": 15
        }
      ]
    },
    {
      "cell_type": "code",
      "source": [],
      "metadata": {
        "id": "DEmMu1rRJGPw"
      },
      "execution_count": 15,
      "outputs": []
    },
    {
      "cell_type": "markdown",
      "source": [
        "## Part 2: Creating the database & SQL "
      ],
      "metadata": {
        "id": "GSLNjqr-5Olw"
      }
    },
    {
      "cell_type": "code",
      "source": [
        "conn = sqlite3.connect('censusData.db')\n",
        "df_median.to_sql('censusDatabase', con = conn, if_exists='replace', index=False)\n",
        "pd.read_sql('SELECT * FROM censusDatabase WHERE AGE > \"40\"', con = conn).head()"
      ],
      "metadata": {
        "colab": {
          "base_uri": "https://localhost:8080/",
          "height": 300
        },
        "id": "HbmspDkk5UKK",
        "outputId": "b24a2f92-bf6f-49d1-fc38-edaf5d81d848"
      },
      "execution_count": 16,
      "outputs": [
        {
          "output_type": "execute_result",
          "data": {
            "text/plain": [
              "   YEAR  SAMPLE  SERIAL       CBSERIAL  HHWT       CLUSTER    STRATA   GQ  \\\n",
              "0  2021  202101       1  2021010000026  13.0  2.021000e+12   80001.0  3.0   \n",
              "1  2021  202101       2  2021010000031  51.0  2.021000e+12   80001.0  3.0   \n",
              "2  2021  202101       3  2021010000063  17.0  2.021000e+12  120001.0  3.0   \n",
              "3  2021  202101       5  2021010000100  15.0  2.021000e+12   50001.0  3.0   \n",
              "4  2021  202101       9  2021010000401  71.0  2.021000e+12  120001.0  3.0   \n",
              "\n",
              "   PERNUM  PERWT  ...  DEGFIELD2  DEGFIELD2D  EMPSTAT  EMPSTATD  OCC2010  IND  \\\n",
              "0     1.0   13.0  ...        0.0         0.0      3.0      30.0   9920.0  0.0   \n",
              "1     1.0   51.0  ...        0.0         0.0      3.0      30.0   9920.0  0.0   \n",
              "2     1.0   17.0  ...        0.0         0.0      3.0      30.0   9920.0  0.0   \n",
              "3     1.0   15.0  ...        0.0         0.0      3.0      30.0   9920.0  0.0   \n",
              "4     1.0   71.0  ...        0.0         0.0      3.0      30.0   9920.0  0.0   \n",
              "\n",
              "   INDNAICS  WKSWORK1  FTOTINC  INCWAGE  \n",
              "0         0       0.0  80000.0      0.0  \n",
              "1         0       0.0  80000.0      0.0  \n",
              "2         0       0.0  80000.0      0.0  \n",
              "3         0       0.0  80000.0      0.0  \n",
              "4         0       0.0  80000.0      0.0  \n",
              "\n",
              "[5 rows x 32 columns]"
            ],
            "text/html": [
              "\n",
              "  <div id=\"df-25ad00ac-6537-4b92-9c80-285701dc0dc6\">\n",
              "    <div class=\"colab-df-container\">\n",
              "      <div>\n",
              "<style scoped>\n",
              "    .dataframe tbody tr th:only-of-type {\n",
              "        vertical-align: middle;\n",
              "    }\n",
              "\n",
              "    .dataframe tbody tr th {\n",
              "        vertical-align: top;\n",
              "    }\n",
              "\n",
              "    .dataframe thead th {\n",
              "        text-align: right;\n",
              "    }\n",
              "</style>\n",
              "<table border=\"1\" class=\"dataframe\">\n",
              "  <thead>\n",
              "    <tr style=\"text-align: right;\">\n",
              "      <th></th>\n",
              "      <th>YEAR</th>\n",
              "      <th>SAMPLE</th>\n",
              "      <th>SERIAL</th>\n",
              "      <th>CBSERIAL</th>\n",
              "      <th>HHWT</th>\n",
              "      <th>CLUSTER</th>\n",
              "      <th>STRATA</th>\n",
              "      <th>GQ</th>\n",
              "      <th>PERNUM</th>\n",
              "      <th>PERWT</th>\n",
              "      <th>...</th>\n",
              "      <th>DEGFIELD2</th>\n",
              "      <th>DEGFIELD2D</th>\n",
              "      <th>EMPSTAT</th>\n",
              "      <th>EMPSTATD</th>\n",
              "      <th>OCC2010</th>\n",
              "      <th>IND</th>\n",
              "      <th>INDNAICS</th>\n",
              "      <th>WKSWORK1</th>\n",
              "      <th>FTOTINC</th>\n",
              "      <th>INCWAGE</th>\n",
              "    </tr>\n",
              "  </thead>\n",
              "  <tbody>\n",
              "    <tr>\n",
              "      <th>0</th>\n",
              "      <td>2021</td>\n",
              "      <td>202101</td>\n",
              "      <td>1</td>\n",
              "      <td>2021010000026</td>\n",
              "      <td>13.0</td>\n",
              "      <td>2.021000e+12</td>\n",
              "      <td>80001.0</td>\n",
              "      <td>3.0</td>\n",
              "      <td>1.0</td>\n",
              "      <td>13.0</td>\n",
              "      <td>...</td>\n",
              "      <td>0.0</td>\n",
              "      <td>0.0</td>\n",
              "      <td>3.0</td>\n",
              "      <td>30.0</td>\n",
              "      <td>9920.0</td>\n",
              "      <td>0.0</td>\n",
              "      <td>0</td>\n",
              "      <td>0.0</td>\n",
              "      <td>80000.0</td>\n",
              "      <td>0.0</td>\n",
              "    </tr>\n",
              "    <tr>\n",
              "      <th>1</th>\n",
              "      <td>2021</td>\n",
              "      <td>202101</td>\n",
              "      <td>2</td>\n",
              "      <td>2021010000031</td>\n",
              "      <td>51.0</td>\n",
              "      <td>2.021000e+12</td>\n",
              "      <td>80001.0</td>\n",
              "      <td>3.0</td>\n",
              "      <td>1.0</td>\n",
              "      <td>51.0</td>\n",
              "      <td>...</td>\n",
              "      <td>0.0</td>\n",
              "      <td>0.0</td>\n",
              "      <td>3.0</td>\n",
              "      <td>30.0</td>\n",
              "      <td>9920.0</td>\n",
              "      <td>0.0</td>\n",
              "      <td>0</td>\n",
              "      <td>0.0</td>\n",
              "      <td>80000.0</td>\n",
              "      <td>0.0</td>\n",
              "    </tr>\n",
              "    <tr>\n",
              "      <th>2</th>\n",
              "      <td>2021</td>\n",
              "      <td>202101</td>\n",
              "      <td>3</td>\n",
              "      <td>2021010000063</td>\n",
              "      <td>17.0</td>\n",
              "      <td>2.021000e+12</td>\n",
              "      <td>120001.0</td>\n",
              "      <td>3.0</td>\n",
              "      <td>1.0</td>\n",
              "      <td>17.0</td>\n",
              "      <td>...</td>\n",
              "      <td>0.0</td>\n",
              "      <td>0.0</td>\n",
              "      <td>3.0</td>\n",
              "      <td>30.0</td>\n",
              "      <td>9920.0</td>\n",
              "      <td>0.0</td>\n",
              "      <td>0</td>\n",
              "      <td>0.0</td>\n",
              "      <td>80000.0</td>\n",
              "      <td>0.0</td>\n",
              "    </tr>\n",
              "    <tr>\n",
              "      <th>3</th>\n",
              "      <td>2021</td>\n",
              "      <td>202101</td>\n",
              "      <td>5</td>\n",
              "      <td>2021010000100</td>\n",
              "      <td>15.0</td>\n",
              "      <td>2.021000e+12</td>\n",
              "      <td>50001.0</td>\n",
              "      <td>3.0</td>\n",
              "      <td>1.0</td>\n",
              "      <td>15.0</td>\n",
              "      <td>...</td>\n",
              "      <td>0.0</td>\n",
              "      <td>0.0</td>\n",
              "      <td>3.0</td>\n",
              "      <td>30.0</td>\n",
              "      <td>9920.0</td>\n",
              "      <td>0.0</td>\n",
              "      <td>0</td>\n",
              "      <td>0.0</td>\n",
              "      <td>80000.0</td>\n",
              "      <td>0.0</td>\n",
              "    </tr>\n",
              "    <tr>\n",
              "      <th>4</th>\n",
              "      <td>2021</td>\n",
              "      <td>202101</td>\n",
              "      <td>9</td>\n",
              "      <td>2021010000401</td>\n",
              "      <td>71.0</td>\n",
              "      <td>2.021000e+12</td>\n",
              "      <td>120001.0</td>\n",
              "      <td>3.0</td>\n",
              "      <td>1.0</td>\n",
              "      <td>71.0</td>\n",
              "      <td>...</td>\n",
              "      <td>0.0</td>\n",
              "      <td>0.0</td>\n",
              "      <td>3.0</td>\n",
              "      <td>30.0</td>\n",
              "      <td>9920.0</td>\n",
              "      <td>0.0</td>\n",
              "      <td>0</td>\n",
              "      <td>0.0</td>\n",
              "      <td>80000.0</td>\n",
              "      <td>0.0</td>\n",
              "    </tr>\n",
              "  </tbody>\n",
              "</table>\n",
              "<p>5 rows × 32 columns</p>\n",
              "</div>\n",
              "      <button class=\"colab-df-convert\" onclick=\"convertToInteractive('df-25ad00ac-6537-4b92-9c80-285701dc0dc6')\"\n",
              "              title=\"Convert this dataframe to an interactive table.\"\n",
              "              style=\"display:none;\">\n",
              "        \n",
              "  <svg xmlns=\"http://www.w3.org/2000/svg\" height=\"24px\"viewBox=\"0 0 24 24\"\n",
              "       width=\"24px\">\n",
              "    <path d=\"M0 0h24v24H0V0z\" fill=\"none\"/>\n",
              "    <path d=\"M18.56 5.44l.94 2.06.94-2.06 2.06-.94-2.06-.94-.94-2.06-.94 2.06-2.06.94zm-11 1L8.5 8.5l.94-2.06 2.06-.94-2.06-.94L8.5 2.5l-.94 2.06-2.06.94zm10 10l.94 2.06.94-2.06 2.06-.94-2.06-.94-.94-2.06-.94 2.06-2.06.94z\"/><path d=\"M17.41 7.96l-1.37-1.37c-.4-.4-.92-.59-1.43-.59-.52 0-1.04.2-1.43.59L10.3 9.45l-7.72 7.72c-.78.78-.78 2.05 0 2.83L4 21.41c.39.39.9.59 1.41.59.51 0 1.02-.2 1.41-.59l7.78-7.78 2.81-2.81c.8-.78.8-2.07 0-2.86zM5.41 20L4 18.59l7.72-7.72 1.47 1.35L5.41 20z\"/>\n",
              "  </svg>\n",
              "      </button>\n",
              "      \n",
              "  <style>\n",
              "    .colab-df-container {\n",
              "      display:flex;\n",
              "      flex-wrap:wrap;\n",
              "      gap: 12px;\n",
              "    }\n",
              "\n",
              "    .colab-df-convert {\n",
              "      background-color: #E8F0FE;\n",
              "      border: none;\n",
              "      border-radius: 50%;\n",
              "      cursor: pointer;\n",
              "      display: none;\n",
              "      fill: #1967D2;\n",
              "      height: 32px;\n",
              "      padding: 0 0 0 0;\n",
              "      width: 32px;\n",
              "    }\n",
              "\n",
              "    .colab-df-convert:hover {\n",
              "      background-color: #E2EBFA;\n",
              "      box-shadow: 0px 1px 2px rgba(60, 64, 67, 0.3), 0px 1px 3px 1px rgba(60, 64, 67, 0.15);\n",
              "      fill: #174EA6;\n",
              "    }\n",
              "\n",
              "    [theme=dark] .colab-df-convert {\n",
              "      background-color: #3B4455;\n",
              "      fill: #D2E3FC;\n",
              "    }\n",
              "\n",
              "    [theme=dark] .colab-df-convert:hover {\n",
              "      background-color: #434B5C;\n",
              "      box-shadow: 0px 1px 3px 1px rgba(0, 0, 0, 0.15);\n",
              "      filter: drop-shadow(0px 1px 2px rgba(0, 0, 0, 0.3));\n",
              "      fill: #FFFFFF;\n",
              "    }\n",
              "  </style>\n",
              "\n",
              "      <script>\n",
              "        const buttonEl =\n",
              "          document.querySelector('#df-25ad00ac-6537-4b92-9c80-285701dc0dc6 button.colab-df-convert');\n",
              "        buttonEl.style.display =\n",
              "          google.colab.kernel.accessAllowed ? 'block' : 'none';\n",
              "\n",
              "        async function convertToInteractive(key) {\n",
              "          const element = document.querySelector('#df-25ad00ac-6537-4b92-9c80-285701dc0dc6');\n",
              "          const dataTable =\n",
              "            await google.colab.kernel.invokeFunction('convertToInteractive',\n",
              "                                                     [key], {});\n",
              "          if (!dataTable) return;\n",
              "\n",
              "          const docLinkHtml = 'Like what you see? Visit the ' +\n",
              "            '<a target=\"_blank\" href=https://colab.research.google.com/notebooks/data_table.ipynb>data table notebook</a>'\n",
              "            + ' to learn more about interactive tables.';\n",
              "          element.innerHTML = '';\n",
              "          dataTable['output_type'] = 'display_data';\n",
              "          await google.colab.output.renderOutput(dataTable, element);\n",
              "          const docLink = document.createElement('div');\n",
              "          docLink.innerHTML = docLinkHtml;\n",
              "          element.appendChild(docLink);\n",
              "        }\n",
              "      </script>\n",
              "    </div>\n",
              "  </div>\n",
              "  "
            ]
          },
          "metadata": {},
          "execution_count": 16
        }
      ]
    },
    {
      "cell_type": "markdown",
      "source": [
        "References: \n",
        "\n",
        "**Data Set**\n",
        "\n",
        "Steven Ruggles, Sarah Flood, Matthew Sobek, Danika Brockman, Grace Cooper,  Stephanie Richards, and Megan Schouweiler. IPUMS USA: Version 13.0 [dataset]. Minneapolis, MN: IPUMS, 2023. https://doi.org/10.18128/D010.V13.0"
      ],
      "metadata": {
        "id": "l3QTLSk9Rn9D"
      }
    }
  ]
}