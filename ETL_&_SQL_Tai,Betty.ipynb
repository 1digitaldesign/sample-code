{
  "nbformat": 4,
  "nbformat_minor": 0,
  "metadata": {
    "colab": {
      "provenance": [],
      "mount_file_id": "1VQw-m4S8Umw7oFXmpIdtiiXenPfy9FV_",
      "authorship_tag": "ABX9TyOlWyJwz1TgSH15u9y8+HWL",
      "include_colab_link": true
    },
    "kernelspec": {
      "name": "python3",
      "display_name": "Python 3"
    },
    "language_info": {
      "name": "python"
    }
  },
  "cells": [
    {
      "cell_type": "markdown",
      "metadata": {
        "id": "view-in-github",
        "colab_type": "text"
      },
      "source": [
        "<a href=\"https://colab.research.google.com/github/1digitaldesign/sample-code/blob/main/ETL_%26_SQL_Tai%2CBetty.ipynb\" target=\"_parent\"><img src=\"https://colab.research.google.com/assets/colab-badge.svg\" alt=\"Open In Colab\"/></a>"
      ]
    },
    {
      "cell_type": "markdown",
      "source": [
        "# Notebook Setup\n",
        "\n",
        "* Part 1. ETL\n",
        "\n",
        "* Part 2. SQL "
      ],
      "metadata": {
        "id": "qbNtUvQB5hVu"
      }
    },
    {
      "cell_type": "markdown",
      "source": [
        "## Part 1: ETL\n"
      ],
      "metadata": {
        "id": "y51NI-DvR8cf"
      }
    },
    {
      "cell_type": "code",
      "execution_count": null,
      "metadata": {
        "id": "5SRDSMylONUW",
        "cellView": "form"
      },
      "outputs": [],
      "source": [
        "#@title Installation of Necessary Packages \n",
        "%%capture\n",
        "!pip3 install pyspark\n",
        "!pip3 install hide_code\n",
        "!pip3 install fancyimpute\n",
        "!pip3 install miceforest\n",
        "!pip3 install scikit-learn\n",
        "%pip install mlxtend --upgrade"
      ]
    },
    {
      "cell_type": "markdown",
      "source": [
        "On the left, download the dataset [`usa_00001.csv`](https://drive.google.com/file/d/128-eo8QVTYu20aRzA_-7OTxPOjyS-SRp/view?usp=share_link) and on the left hand side, there is a folder to click on called `Files` and then `Upload to Session Storage` this file [`usa_00001.csv`](https://drive.google.com/file/d/128-eo8QVTYu20aRzA_-7OTxPOjyS-SRp/view?usp=share_link). "
      ],
      "metadata": {
        "id": "x8qw5hIRQ-gV"
      }
    },
    {
      "cell_type": "code",
      "source": [
        "#@title Installation of Necessary Libraries \n",
        "import pyspark\n",
        "from pyspark.sql import SparkSession\n",
        "import pandas as pd\n",
        "import numpy as np\n",
        "import sqlite3\n",
        "import requests\n",
        "import os\n",
        "import seaborn as sns\n",
        "import matplotlib.pyplot as plt"
      ],
      "metadata": {
        "id": "UEo9HGP2SjPq",
        "cellView": "form"
      },
      "execution_count": null,
      "outputs": []
    },
    {
      "cell_type": "markdown",
      "source": [
        "## Data Extraction"
      ],
      "metadata": {
        "id": "4DHflXUj36Pg"
      }
    },
    {
      "cell_type": "code",
      "source": [
        "df = pd.read_csv('/content/usa_00001.csv')"
      ],
      "metadata": {
        "id": "HUu5-115kms8"
      },
      "execution_count": null,
      "outputs": []
    },
    {
      "cell_type": "markdown",
      "source": [
        "## Data Transformation\n",
        "Data transformation is an integral step for data analysis and modeling without errors and improve the performance of the data. \n",
        "\n",
        "* Cleaning \n",
        "* Normalization\n",
        "* Reduction\n",
        "* Discretization\n",
        "* Aggregation\n",
        "\n",
        "\n",
        "\n",
        "\n"
      ],
      "metadata": {
        "id": "BWPDtHrkt8xT"
      }
    },
    {
      "cell_type": "code",
      "source": [
        "df.isnull().sum()\n",
        "df.shape"
      ],
      "metadata": {
        "id": "FE5EBaaEtEu1"
      },
      "execution_count": null,
      "outputs": []
    },
    {
      "cell_type": "code",
      "source": [
        "for col_name in df.columns: \n",
        "    print(col_name)"
      ],
      "metadata": {
        "id": "PeI68T7PtkXf"
      },
      "execution_count": null,
      "outputs": []
    },
    {
      "cell_type": "code",
      "source": [
        "df.describe().style.highlight_max(color=\"darkred\")"
      ],
      "metadata": {
        "id": "wCVQsYB8xSLx"
      },
      "execution_count": null,
      "outputs": []
    },
    {
      "cell_type": "code",
      "source": [
        "df[\"FTOTINC\"].value_counts()"
      ],
      "metadata": {
        "id": "Mr3ptVyByQRc"
      },
      "execution_count": null,
      "outputs": []
    },
    {
      "cell_type": "code",
      "source": [
        "df[\"INCWAGE\"].value_counts()"
      ],
      "metadata": {
        "id": "mDe-4SF3zMUU"
      },
      "execution_count": null,
      "outputs": []
    },
    {
      "cell_type": "code",
      "source": [
        "df_nan = df.copy()\n",
        "df_nan[\"FTOTINC\"] = df[\"FTOTINC\"].replace(9999999, np.nan)\n",
        "df_nan[\"INCWAGE\"] = df[\"INCWAGE\"].replace(999999, np.nan)\n",
        "\n",
        "df_nan.max()"
      ],
      "metadata": {
        "id": "pKbV5mt03ePA"
      },
      "execution_count": null,
      "outputs": []
    },
    {
      "cell_type": "markdown",
      "source": [
        "### Imputation of missing data \n",
        "There are several techniques we may impute the missing data, and we will examine the bias-variance tradeoff using the [MLxtend](http://rasbt.github.io/mlxtend/) Library. \n",
        "\n",
        "\n",
        "*   Substitution by mean\n",
        "*   Substitution by median\n",
        "*   Iterative Imputer\n",
        "*   KNN Imputer\n",
        "\n",
        "\n"
      ],
      "metadata": {
        "id": "mqE_RgYG7ttg"
      }
    },
    {
      "cell_type": "markdown",
      "source": [
        "#### Substitution by mean \n",
        "I am treating the NaN data as the target variable and doing simple imputation. "
      ],
      "metadata": {
        "id": "trBvS9e4_cMp"
      }
    },
    {
      "cell_type": "code",
      "source": [
        "df_nan.isnull().sum()"
      ],
      "metadata": {
        "id": "mBynZ9d0eUFV"
      },
      "execution_count": null,
      "outputs": []
    },
    {
      "cell_type": "code",
      "source": [
        "from sklearn.impute import SimpleImputer\n",
        "train_mean = df_nan[['BIRTHYR','FTOTINC','INCWAGE']].copy()\n",
        "mean_imputer = SimpleImputer(strategy='mean')\n",
        "train_mean.iloc[:,:] = mean_imputer.fit_transform(train_mean)\n",
        "train_mean.isnull().sum()\n",
        "df_mean = df_nan.fillna(train_mean)\n",
        "df_mean.isnull().sum()"
      ],
      "metadata": {
        "id": "oFFJyp9f5T-z"
      },
      "execution_count": null,
      "outputs": []
    },
    {
      "cell_type": "markdown",
      "source": [
        "#### Substitution by median"
      ],
      "metadata": {
        "id": "f36eIFzh7b5e"
      }
    },
    {
      "cell_type": "code",
      "source": [
        "from sklearn.impute import SimpleImputer\n",
        "train_median = df_nan[['BIRTHYR','FTOTINC','INCWAGE']].copy()\n",
        "median_imputer = SimpleImputer(strategy='median')\n",
        "train_median.iloc[:,:] = median_imputer.fit_transform(train_median)\n",
        "train_median.isnull().sum()\n",
        "df_median = df_nan.fillna(train_median)\n",
        "df_median.isnull().sum()"
      ],
      "metadata": {
        "id": "jjqmXPqZ5UCd"
      },
      "execution_count": null,
      "outputs": []
    },
    {
      "cell_type": "markdown",
      "source": [
        "#### Iterative Imputer"
      ],
      "metadata": {
        "id": "-J7zFFE57dfW"
      }
    },
    {
      "cell_type": "code",
      "source": [
        "from sklearn.experimental import enable_iterative_imputer\n",
        "from sklearn.impute import IterativeImputer\n",
        "\n",
        "itimp_FTOTINC = pd.DataFrame(np.array(df_nan['FTOTINC']))\n",
        "imp_mean = IterativeImputer(random_state=0)\n",
        "imp_mean.fit(itimp_FTOTINC)\n",
        "itimp_FTOTINC = imp_mean.transform(itimp_FTOTINC)\n",
        "itimp_FTOTINC = pd.DataFrame(itimp_FTOTINC).rename(columns={0:\"FTOTINC\"})\n",
        "BIRTHYR_FTOTINC = pd.concat([df_nan['BIRTHYR'], itimp_FTOTINC], axis=1)"
      ],
      "metadata": {
        "id": "j32QBRG27dnJ"
      },
      "execution_count": null,
      "outputs": []
    },
    {
      "cell_type": "code",
      "source": [
        "itimp_INCWAGE = pd.DataFrame(np.array(df_nan['INCWAGE']))\n",
        "imp_mean = IterativeImputer(random_state=0)\n",
        "imp_mean.fit(itimp_INCWAGE)\n",
        "itimp_INCWAGE = imp_mean.transform(itimp_INCWAGE)\n",
        "itimp_INCWAGE = pd.DataFrame(itimp_INCWAGE).rename(columns={0:\"INCWAGE\"})\n",
        "BIRTHYR_INCWAGE = pd.concat([df_nan['BIRTHYR'], itimp_INCWAGE], axis=1)\n",
        "df_iterativeimputer = df_nan.fillna(BIRTHYR_FTOTINC).fillna(BIRTHYR_INCWAGE)\n",
        "\n",
        "print(f\"If there are any nulls in the entire dataframe  : {pd.DataFrame(df_iterativeimputer).isnull().sum()}\")"
      ],
      "metadata": {
        "id": "4o51L16EtTHD"
      },
      "execution_count": null,
      "outputs": []
    },
    {
      "cell_type": "markdown",
      "source": [
        "## Part 2: Creating the database & SQL "
      ],
      "metadata": {
        "id": "GSLNjqr-5Olw"
      }
    },
    {
      "cell_type": "code",
      "source": [
        "conn = sqlite3.connect('censusData_median.db')\n",
        "df_median.to_sql('censusDatabaseMedian', con = conn, if_exists='replace', index=False)\n",
        "pd.read_sql('SELECT * FROM censusDatabaseMedian WHERE AGE > \"40\"', con = conn).head()"
      ],
      "metadata": {
        "id": "HbmspDkk5UKK"
      },
      "execution_count": null,
      "outputs": []
    },
    {
      "cell_type": "markdown",
      "source": [
        "References: \n",
        "\n",
        "**Data Set**\n",
        "\n",
        "Steven Ruggles, Sarah Flood, Matthew Sobek, Danika Brockman, Grace Cooper,  Stephanie Richards, and Megan Schouweiler. IPUMS USA: Version 13.0 [dataset]. Minneapolis, MN: IPUMS, 2023. https://doi.org/10.18128/D010.V13.0"
      ],
      "metadata": {
        "id": "l3QTLSk9Rn9D"
      }
    }
  ]
}